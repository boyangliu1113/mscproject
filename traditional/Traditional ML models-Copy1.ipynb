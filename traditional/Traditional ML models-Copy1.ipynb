{
 "cells": [
  {
   "cell_type": "code",
   "execution_count": 1,
   "metadata": {
    "collapsed": true
   },
   "outputs": [],
   "source": [
    "import pandas as pd"
   ]
  },
  {
   "cell_type": "code",
   "execution_count": 2,
   "metadata": {
    "collapsed": true
   },
   "outputs": [],
   "source": [
    "df = pd.read_csv('features_built.csv')"
   ]
  },
  {
   "cell_type": "code",
   "execution_count": 3,
   "metadata": {
    "scrolled": false
   },
   "outputs": [
    {
     "data": {
      "text/html": [
       "<div>\n",
       "<style scoped>\n",
       "    .dataframe tbody tr th:only-of-type {\n",
       "        vertical-align: middle;\n",
       "    }\n",
       "\n",
       "    .dataframe tbody tr th {\n",
       "        vertical-align: top;\n",
       "    }\n",
       "\n",
       "    .dataframe thead th {\n",
       "        text-align: right;\n",
       "    }\n",
       "</style>\n",
       "<table border=\"1\" class=\"dataframe\">\n",
       "  <thead>\n",
       "    <tr style=\"text-align: right;\">\n",
       "      <th></th>\n",
       "      <th>Unnamed: 0</th>\n",
       "      <th>question_cleaned</th>\n",
       "      <th>answer_cleaned</th>\n",
       "      <th>score</th>\n",
       "      <th>cos_sim</th>\n",
       "      <th>kl_lm</th>\n",
       "      <th>kl_bilm</th>\n",
       "      <th>Question</th>\n",
       "      <th>Answer</th>\n",
       "      <th>score.1</th>\n",
       "      <th>tf_cos</th>\n",
       "      <th>bitf_cos</th>\n",
       "    </tr>\n",
       "  </thead>\n",
       "  <tbody>\n",
       "    <tr>\n",
       "      <th>0</th>\n",
       "      <td>0</td>\n",
       "      <td>['please', 'describe', 'size', 'organization',...</td>\n",
       "      <td>['clifford', 'chance', 'employ', 'people', 'gl...</td>\n",
       "      <td>1.0</td>\n",
       "      <td>0.857279</td>\n",
       "      <td>5.285982</td>\n",
       "      <td>64.202174</td>\n",
       "      <td>1) Please describe \\n- the size of the organiz...</td>\n",
       "      <td>Clifford Chance employs 6000 people globally, ...</td>\n",
       "      <td>1.0</td>\n",
       "      <td>0.501237</td>\n",
       "      <td>0.386223</td>\n",
       "    </tr>\n",
       "    <tr>\n",
       "      <th>1</th>\n",
       "      <td>1</td>\n",
       "      <td>['please', 'provide', 'clear', 'explanation', ...</td>\n",
       "      <td>['clifford', 'chance', 'professional', 'legal'...</td>\n",
       "      <td>1.0</td>\n",
       "      <td>0.788003</td>\n",
       "      <td>10.015840</td>\n",
       "      <td>65.480876</td>\n",
       "      <td>2) Please provide a clear explanation of what ...</td>\n",
       "      <td>Clifford Chance is a professional legal servic...</td>\n",
       "      <td>1.0</td>\n",
       "      <td>0.150290</td>\n",
       "      <td>0.142950</td>\n",
       "    </tr>\n",
       "    <tr>\n",
       "      <th>2</th>\n",
       "      <td>2</td>\n",
       "      <td>['office', 'upper', 'bank', 'street', 'london'...</td>\n",
       "      <td>['citi', 'data', 'handle', 'aforementioned', '...</td>\n",
       "      <td>1.0</td>\n",
       "      <td>0.928840</td>\n",
       "      <td>10.666567</td>\n",
       "      <td>161.406301</td>\n",
       "      <td>3) Are this office at 10 UPPER BANK STREET, LO...</td>\n",
       "      <td>Citi data is only handled at the aforementione...</td>\n",
       "      <td>1.0</td>\n",
       "      <td>0.132648</td>\n",
       "      <td>0.110987</td>\n",
       "    </tr>\n",
       "    <tr>\n",
       "      <th>3</th>\n",
       "      <td>3</td>\n",
       "      <td>['specify', 'quantity', 'describe', 'number', ...</td>\n",
       "      <td>['record', 'quantity', 'determine', 'relations...</td>\n",
       "      <td>1.0</td>\n",
       "      <td>0.835440</td>\n",
       "      <td>10.341471</td>\n",
       "      <td>99.324364</td>\n",
       "      <td>\\n4) Specify quantities that will describe the...</td>\n",
       "      <td>Record quantity is determined by the relations...</td>\n",
       "      <td>1.0</td>\n",
       "      <td>0.025156</td>\n",
       "      <td>0.008706</td>\n",
       "    </tr>\n",
       "    <tr>\n",
       "      <th>4</th>\n",
       "      <td>4</td>\n",
       "      <td>['one', 'sub', 'contractor', 'use', 'provide',...</td>\n",
       "      <td>['sub', 'contractor', 'use', 'conjunction', 's...</td>\n",
       "      <td>1.0</td>\n",
       "      <td>0.935458</td>\n",
       "      <td>7.693669</td>\n",
       "      <td>52.343010</td>\n",
       "      <td>5) If one or more sub-contractors are used in ...</td>\n",
       "      <td>Sub-contractors are not used in conjunction wi...</td>\n",
       "      <td>1.0</td>\n",
       "      <td>0.407978</td>\n",
       "      <td>0.389921</td>\n",
       "    </tr>\n",
       "  </tbody>\n",
       "</table>\n",
       "</div>"
      ],
      "text/plain": [
       "   Unnamed: 0                                   question_cleaned  \\\n",
       "0           0  ['please', 'describe', 'size', 'organization',...   \n",
       "1           1  ['please', 'provide', 'clear', 'explanation', ...   \n",
       "2           2  ['office', 'upper', 'bank', 'street', 'london'...   \n",
       "3           3  ['specify', 'quantity', 'describe', 'number', ...   \n",
       "4           4  ['one', 'sub', 'contractor', 'use', 'provide',...   \n",
       "\n",
       "                                      answer_cleaned  score   cos_sim  \\\n",
       "0  ['clifford', 'chance', 'employ', 'people', 'gl...    1.0  0.857279   \n",
       "1  ['clifford', 'chance', 'professional', 'legal'...    1.0  0.788003   \n",
       "2  ['citi', 'data', 'handle', 'aforementioned', '...    1.0  0.928840   \n",
       "3  ['record', 'quantity', 'determine', 'relations...    1.0  0.835440   \n",
       "4  ['sub', 'contractor', 'use', 'conjunction', 's...    1.0  0.935458   \n",
       "\n",
       "       kl_lm     kl_bilm                                           Question  \\\n",
       "0   5.285982   64.202174  1) Please describe \\n- the size of the organiz...   \n",
       "1  10.015840   65.480876  2) Please provide a clear explanation of what ...   \n",
       "2  10.666567  161.406301  3) Are this office at 10 UPPER BANK STREET, LO...   \n",
       "3  10.341471   99.324364  \\n4) Specify quantities that will describe the...   \n",
       "4   7.693669   52.343010  5) If one or more sub-contractors are used in ...   \n",
       "\n",
       "                                              Answer  score.1    tf_cos  \\\n",
       "0  Clifford Chance employs 6000 people globally, ...      1.0  0.501237   \n",
       "1  Clifford Chance is a professional legal servic...      1.0  0.150290   \n",
       "2  Citi data is only handled at the aforementione...      1.0  0.132648   \n",
       "3  Record quantity is determined by the relations...      1.0  0.025156   \n",
       "4  Sub-contractors are not used in conjunction wi...      1.0  0.407978   \n",
       "\n",
       "   bitf_cos  \n",
       "0  0.386223  \n",
       "1  0.142950  \n",
       "2  0.110987  \n",
       "3  0.008706  \n",
       "4  0.389921  "
      ]
     },
     "execution_count": 3,
     "metadata": {},
     "output_type": "execute_result"
    }
   ],
   "source": [
    "df.head()"
   ]
  },
  {
   "cell_type": "code",
   "execution_count": 4,
   "metadata": {
    "collapsed": true
   },
   "outputs": [],
   "source": [
    "from sklearn.utils import resample"
   ]
  },
  {
   "cell_type": "code",
   "execution_count": 5,
   "metadata": {
    "collapsed": true
   },
   "outputs": [],
   "source": [
    "train = resample(df, random_state = 0)"
   ]
  },
  {
   "cell_type": "code",
   "execution_count": 6,
   "metadata": {},
   "outputs": [
    {
     "data": {
      "text/html": [
       "<div>\n",
       "<style scoped>\n",
       "    .dataframe tbody tr th:only-of-type {\n",
       "        vertical-align: middle;\n",
       "    }\n",
       "\n",
       "    .dataframe tbody tr th {\n",
       "        vertical-align: top;\n",
       "    }\n",
       "\n",
       "    .dataframe thead th {\n",
       "        text-align: right;\n",
       "    }\n",
       "</style>\n",
       "<table border=\"1\" class=\"dataframe\">\n",
       "  <thead>\n",
       "    <tr style=\"text-align: right;\">\n",
       "      <th></th>\n",
       "      <th>Unnamed: 0</th>\n",
       "      <th>score</th>\n",
       "      <th>cos_sim</th>\n",
       "      <th>kl_lm</th>\n",
       "      <th>kl_bilm</th>\n",
       "      <th>score.1</th>\n",
       "      <th>tf_cos</th>\n",
       "      <th>bitf_cos</th>\n",
       "    </tr>\n",
       "  </thead>\n",
       "  <tbody>\n",
       "    <tr>\n",
       "      <th>count</th>\n",
       "      <td>4232.000000</td>\n",
       "      <td>4232.000000</td>\n",
       "      <td>4232.000000</td>\n",
       "      <td>4232.000000</td>\n",
       "      <td>4232.000000</td>\n",
       "      <td>4232.000000</td>\n",
       "      <td>4232.000000</td>\n",
       "      <td>4232.000000</td>\n",
       "    </tr>\n",
       "    <tr>\n",
       "      <th>mean</th>\n",
       "      <td>2110.115312</td>\n",
       "      <td>0.502836</td>\n",
       "      <td>0.724585</td>\n",
       "      <td>12.485396</td>\n",
       "      <td>117.385247</td>\n",
       "      <td>0.502836</td>\n",
       "      <td>0.077148</td>\n",
       "      <td>0.064081</td>\n",
       "    </tr>\n",
       "    <tr>\n",
       "      <th>std</th>\n",
       "      <td>1217.928645</td>\n",
       "      <td>0.500051</td>\n",
       "      <td>0.187324</td>\n",
       "      <td>4.290976</td>\n",
       "      <td>97.935794</td>\n",
       "      <td>0.500051</td>\n",
       "      <td>0.124233</td>\n",
       "      <td>0.111504</td>\n",
       "    </tr>\n",
       "    <tr>\n",
       "      <th>min</th>\n",
       "      <td>0.000000</td>\n",
       "      <td>0.000000</td>\n",
       "      <td>0.000000</td>\n",
       "      <td>0.077164</td>\n",
       "      <td>0.213320</td>\n",
       "      <td>0.000000</td>\n",
       "      <td>0.000000</td>\n",
       "      <td>0.000000</td>\n",
       "    </tr>\n",
       "    <tr>\n",
       "      <th>25%</th>\n",
       "      <td>1055.750000</td>\n",
       "      <td>0.000000</td>\n",
       "      <td>0.643357</td>\n",
       "      <td>10.337534</td>\n",
       "      <td>61.788162</td>\n",
       "      <td>0.000000</td>\n",
       "      <td>0.000000</td>\n",
       "      <td>0.000000</td>\n",
       "    </tr>\n",
       "    <tr>\n",
       "      <th>50%</th>\n",
       "      <td>2099.000000</td>\n",
       "      <td>1.000000</td>\n",
       "      <td>0.760468</td>\n",
       "      <td>12.023751</td>\n",
       "      <td>90.987011</td>\n",
       "      <td>1.000000</td>\n",
       "      <td>0.029199</td>\n",
       "      <td>0.021493</td>\n",
       "    </tr>\n",
       "    <tr>\n",
       "      <th>75%</th>\n",
       "      <td>3173.250000</td>\n",
       "      <td>1.000000</td>\n",
       "      <td>0.856693</td>\n",
       "      <td>14.150226</td>\n",
       "      <td>145.124413</td>\n",
       "      <td>1.000000</td>\n",
       "      <td>0.096321</td>\n",
       "      <td>0.081283</td>\n",
       "    </tr>\n",
       "    <tr>\n",
       "      <th>max</th>\n",
       "      <td>4229.000000</td>\n",
       "      <td>1.000000</td>\n",
       "      <td>1.000000</td>\n",
       "      <td>59.541524</td>\n",
       "      <td>1211.408114</td>\n",
       "      <td>1.000000</td>\n",
       "      <td>1.000000</td>\n",
       "      <td>1.000000</td>\n",
       "    </tr>\n",
       "  </tbody>\n",
       "</table>\n",
       "</div>"
      ],
      "text/plain": [
       "        Unnamed: 0        score      cos_sim        kl_lm      kl_bilm  \\\n",
       "count  4232.000000  4232.000000  4232.000000  4232.000000  4232.000000   \n",
       "mean   2110.115312     0.502836     0.724585    12.485396   117.385247   \n",
       "std    1217.928645     0.500051     0.187324     4.290976    97.935794   \n",
       "min       0.000000     0.000000     0.000000     0.077164     0.213320   \n",
       "25%    1055.750000     0.000000     0.643357    10.337534    61.788162   \n",
       "50%    2099.000000     1.000000     0.760468    12.023751    90.987011   \n",
       "75%    3173.250000     1.000000     0.856693    14.150226   145.124413   \n",
       "max    4229.000000     1.000000     1.000000    59.541524  1211.408114   \n",
       "\n",
       "           score.1       tf_cos     bitf_cos  \n",
       "count  4232.000000  4232.000000  4232.000000  \n",
       "mean      0.502836     0.077148     0.064081  \n",
       "std       0.500051     0.124233     0.111504  \n",
       "min       0.000000     0.000000     0.000000  \n",
       "25%       0.000000     0.000000     0.000000  \n",
       "50%       1.000000     0.029199     0.021493  \n",
       "75%       1.000000     0.096321     0.081283  \n",
       "max       1.000000     1.000000     1.000000  "
      ]
     },
     "execution_count": 6,
     "metadata": {},
     "output_type": "execute_result"
    }
   ],
   "source": [
    "train.describe()"
   ]
  },
  {
   "cell_type": "code",
   "execution_count": 7,
   "metadata": {},
   "outputs": [
    {
     "data": {
      "text/html": [
       "<div>\n",
       "<style scoped>\n",
       "    .dataframe tbody tr th:only-of-type {\n",
       "        vertical-align: middle;\n",
       "    }\n",
       "\n",
       "    .dataframe tbody tr th {\n",
       "        vertical-align: top;\n",
       "    }\n",
       "\n",
       "    .dataframe thead th {\n",
       "        text-align: right;\n",
       "    }\n",
       "</style>\n",
       "<table border=\"1\" class=\"dataframe\">\n",
       "  <thead>\n",
       "    <tr style=\"text-align: right;\">\n",
       "      <th></th>\n",
       "      <th>Unnamed: 0</th>\n",
       "      <th>score</th>\n",
       "      <th>cos_sim</th>\n",
       "      <th>kl_lm</th>\n",
       "      <th>kl_bilm</th>\n",
       "      <th>score.1</th>\n",
       "      <th>tf_cos</th>\n",
       "      <th>bitf_cos</th>\n",
       "    </tr>\n",
       "  </thead>\n",
       "  <tbody>\n",
       "    <tr>\n",
       "      <th>count</th>\n",
       "      <td>4232.000000</td>\n",
       "      <td>4232.000000</td>\n",
       "      <td>4232.000000</td>\n",
       "      <td>4232.000000</td>\n",
       "      <td>4232.000000</td>\n",
       "      <td>4232.000000</td>\n",
       "      <td>4232.000000</td>\n",
       "      <td>4232.000000</td>\n",
       "    </tr>\n",
       "    <tr>\n",
       "      <th>mean</th>\n",
       "      <td>2115.500000</td>\n",
       "      <td>0.500000</td>\n",
       "      <td>0.724403</td>\n",
       "      <td>12.494458</td>\n",
       "      <td>116.165070</td>\n",
       "      <td>0.500000</td>\n",
       "      <td>0.075251</td>\n",
       "      <td>0.062075</td>\n",
       "    </tr>\n",
       "    <tr>\n",
       "      <th>std</th>\n",
       "      <td>1221.817499</td>\n",
       "      <td>0.500059</td>\n",
       "      <td>0.184280</td>\n",
       "      <td>4.139191</td>\n",
       "      <td>94.142694</td>\n",
       "      <td>0.500059</td>\n",
       "      <td>0.119188</td>\n",
       "      <td>0.106510</td>\n",
       "    </tr>\n",
       "    <tr>\n",
       "      <th>min</th>\n",
       "      <td>0.000000</td>\n",
       "      <td>0.000000</td>\n",
       "      <td>0.000000</td>\n",
       "      <td>-0.026829</td>\n",
       "      <td>-0.173549</td>\n",
       "      <td>0.000000</td>\n",
       "      <td>0.000000</td>\n",
       "      <td>0.000000</td>\n",
       "    </tr>\n",
       "    <tr>\n",
       "      <th>25%</th>\n",
       "      <td>1057.750000</td>\n",
       "      <td>0.000000</td>\n",
       "      <td>0.638392</td>\n",
       "      <td>10.361633</td>\n",
       "      <td>60.671317</td>\n",
       "      <td>0.000000</td>\n",
       "      <td>0.000000</td>\n",
       "      <td>0.000000</td>\n",
       "    </tr>\n",
       "    <tr>\n",
       "      <th>50%</th>\n",
       "      <td>2115.500000</td>\n",
       "      <td>0.500000</td>\n",
       "      <td>0.763798</td>\n",
       "      <td>12.023751</td>\n",
       "      <td>90.153612</td>\n",
       "      <td>0.500000</td>\n",
       "      <td>0.029063</td>\n",
       "      <td>0.021891</td>\n",
       "    </tr>\n",
       "    <tr>\n",
       "      <th>75%</th>\n",
       "      <td>3173.250000</td>\n",
       "      <td>1.000000</td>\n",
       "      <td>0.853595</td>\n",
       "      <td>14.092769</td>\n",
       "      <td>145.773450</td>\n",
       "      <td>1.000000</td>\n",
       "      <td>0.097760</td>\n",
       "      <td>0.081040</td>\n",
       "    </tr>\n",
       "    <tr>\n",
       "      <th>max</th>\n",
       "      <td>4231.000000</td>\n",
       "      <td>1.000000</td>\n",
       "      <td>1.000000</td>\n",
       "      <td>59.541524</td>\n",
       "      <td>1211.408114</td>\n",
       "      <td>1.000000</td>\n",
       "      <td>1.000000</td>\n",
       "      <td>1.000000</td>\n",
       "    </tr>\n",
       "  </tbody>\n",
       "</table>\n",
       "</div>"
      ],
      "text/plain": [
       "        Unnamed: 0        score      cos_sim        kl_lm      kl_bilm  \\\n",
       "count  4232.000000  4232.000000  4232.000000  4232.000000  4232.000000   \n",
       "mean   2115.500000     0.500000     0.724403    12.494458   116.165070   \n",
       "std    1221.817499     0.500059     0.184280     4.139191    94.142694   \n",
       "min       0.000000     0.000000     0.000000    -0.026829    -0.173549   \n",
       "25%    1057.750000     0.000000     0.638392    10.361633    60.671317   \n",
       "50%    2115.500000     0.500000     0.763798    12.023751    90.153612   \n",
       "75%    3173.250000     1.000000     0.853595    14.092769   145.773450   \n",
       "max    4231.000000     1.000000     1.000000    59.541524  1211.408114   \n",
       "\n",
       "           score.1       tf_cos     bitf_cos  \n",
       "count  4232.000000  4232.000000  4232.000000  \n",
       "mean      0.500000     0.075251     0.062075  \n",
       "std       0.500059     0.119188     0.106510  \n",
       "min       0.000000     0.000000     0.000000  \n",
       "25%       0.000000     0.000000     0.000000  \n",
       "50%       0.500000     0.029063     0.021891  \n",
       "75%       1.000000     0.097760     0.081040  \n",
       "max       1.000000     1.000000     1.000000  "
      ]
     },
     "execution_count": 7,
     "metadata": {},
     "output_type": "execute_result"
    }
   ],
   "source": [
    "df.describe()"
   ]
  },
  {
   "cell_type": "code",
   "execution_count": 8,
   "metadata": {
    "collapsed": true
   },
   "outputs": [],
   "source": [
    "test = df.copy()"
   ]
  },
  {
   "cell_type": "code",
   "execution_count": 9,
   "metadata": {
    "collapsed": true
   },
   "outputs": [],
   "source": [
    "test = test.append(train).drop_duplicates(keep=False)"
   ]
  },
  {
   "cell_type": "code",
   "execution_count": 10,
   "metadata": {},
   "outputs": [
    {
     "data": {
      "text/html": [
       "<div>\n",
       "<style scoped>\n",
       "    .dataframe tbody tr th:only-of-type {\n",
       "        vertical-align: middle;\n",
       "    }\n",
       "\n",
       "    .dataframe tbody tr th {\n",
       "        vertical-align: top;\n",
       "    }\n",
       "\n",
       "    .dataframe thead th {\n",
       "        text-align: right;\n",
       "    }\n",
       "</style>\n",
       "<table border=\"1\" class=\"dataframe\">\n",
       "  <thead>\n",
       "    <tr style=\"text-align: right;\">\n",
       "      <th></th>\n",
       "      <th>Unnamed: 0</th>\n",
       "      <th>question_cleaned</th>\n",
       "      <th>answer_cleaned</th>\n",
       "      <th>score</th>\n",
       "      <th>cos_sim</th>\n",
       "      <th>kl_lm</th>\n",
       "      <th>kl_bilm</th>\n",
       "      <th>Question</th>\n",
       "      <th>Answer</th>\n",
       "      <th>score.1</th>\n",
       "      <th>tf_cos</th>\n",
       "      <th>bitf_cos</th>\n",
       "    </tr>\n",
       "  </thead>\n",
       "  <tbody>\n",
       "    <tr>\n",
       "      <th>1</th>\n",
       "      <td>1</td>\n",
       "      <td>['please', 'provide', 'clear', 'explanation', ...</td>\n",
       "      <td>['clifford', 'chance', 'professional', 'legal'...</td>\n",
       "      <td>1.0</td>\n",
       "      <td>0.788003</td>\n",
       "      <td>10.015840</td>\n",
       "      <td>65.480876</td>\n",
       "      <td>2) Please provide a clear explanation of what ...</td>\n",
       "      <td>Clifford Chance is a professional legal servic...</td>\n",
       "      <td>1.0</td>\n",
       "      <td>0.150290</td>\n",
       "      <td>0.142950</td>\n",
       "    </tr>\n",
       "    <tr>\n",
       "      <th>6</th>\n",
       "      <td>6</td>\n",
       "      <td>['data', 'access', 'describe', 'access']</td>\n",
       "      <td>['data', 'access', 'use', 'standard', 'tool', ...</td>\n",
       "      <td>1.0</td>\n",
       "      <td>0.908623</td>\n",
       "      <td>5.971332</td>\n",
       "      <td>13.194141</td>\n",
       "      <td>a) If data is accessed, describe how it is acc...</td>\n",
       "      <td>a.) Data is accessed using standard tools and ...</td>\n",
       "      <td>1.0</td>\n",
       "      <td>0.385104</td>\n",
       "      <td>0.304514</td>\n",
       "    </tr>\n",
       "    <tr>\n",
       "      <th>8</th>\n",
       "      <td>8</td>\n",
       "      <td>['c', 'data', 'store', 'describe', 'store', 't...</td>\n",
       "      <td>['c', 'data', 'store', 'secure', 'server', 'wi...</td>\n",
       "      <td>1.0</td>\n",
       "      <td>0.820671</td>\n",
       "      <td>8.477222</td>\n",
       "      <td>26.565757</td>\n",
       "      <td>c) If data is stored, describe how it is store...</td>\n",
       "      <td>c.) Data is stored on secure servers within a ...</td>\n",
       "      <td>1.0</td>\n",
       "      <td>0.179725</td>\n",
       "      <td>0.090011</td>\n",
       "    </tr>\n",
       "    <tr>\n",
       "      <th>9</th>\n",
       "      <td>9</td>\n",
       "      <td>['describe', 'data', 'disposal', 'process']</td>\n",
       "      <td>['asset', 'information', 'disposal', 'cover', ...</td>\n",
       "      <td>1.0</td>\n",
       "      <td>0.836580</td>\n",
       "      <td>5.080876</td>\n",
       "      <td>13.646755</td>\n",
       "      <td>d) Describe the data disposal process.</td>\n",
       "      <td>d.) Asset and Information Disposal is covered ...</td>\n",
       "      <td>1.0</td>\n",
       "      <td>0.413751</td>\n",
       "      <td>0.295674</td>\n",
       "    </tr>\n",
       "    <tr>\n",
       "      <th>12</th>\n",
       "      <td>12</td>\n",
       "      <td>['receive', 'citi', 'data', 'electronic', 'tra...</td>\n",
       "      <td>['email', 'recieved', 'citi', 'via', 'email', ...</td>\n",
       "      <td>1.0</td>\n",
       "      <td>0.537186</td>\n",
       "      <td>10.262056</td>\n",
       "      <td>79.163183</td>\n",
       "      <td>3) Do you receive Citi data on Electronic Tran...</td>\n",
       "      <td>3.) Email is recieved from Citi via email tran...</td>\n",
       "      <td>1.0</td>\n",
       "      <td>0.081058</td>\n",
       "      <td>0.092515</td>\n",
       "    </tr>\n",
       "  </tbody>\n",
       "</table>\n",
       "</div>"
      ],
      "text/plain": [
       "    Unnamed: 0                                   question_cleaned  \\\n",
       "1            1  ['please', 'provide', 'clear', 'explanation', ...   \n",
       "6            6           ['data', 'access', 'describe', 'access']   \n",
       "8            8  ['c', 'data', 'store', 'describe', 'store', 't...   \n",
       "9            9        ['describe', 'data', 'disposal', 'process']   \n",
       "12          12  ['receive', 'citi', 'data', 'electronic', 'tra...   \n",
       "\n",
       "                                       answer_cleaned  score   cos_sim  \\\n",
       "1   ['clifford', 'chance', 'professional', 'legal'...    1.0  0.788003   \n",
       "6   ['data', 'access', 'use', 'standard', 'tool', ...    1.0  0.908623   \n",
       "8   ['c', 'data', 'store', 'secure', 'server', 'wi...    1.0  0.820671   \n",
       "9   ['asset', 'information', 'disposal', 'cover', ...    1.0  0.836580   \n",
       "12  ['email', 'recieved', 'citi', 'via', 'email', ...    1.0  0.537186   \n",
       "\n",
       "        kl_lm    kl_bilm                                           Question  \\\n",
       "1   10.015840  65.480876  2) Please provide a clear explanation of what ...   \n",
       "6    5.971332  13.194141  a) If data is accessed, describe how it is acc...   \n",
       "8    8.477222  26.565757  c) If data is stored, describe how it is store...   \n",
       "9    5.080876  13.646755             d) Describe the data disposal process.   \n",
       "12  10.262056  79.163183  3) Do you receive Citi data on Electronic Tran...   \n",
       "\n",
       "                                               Answer  score.1    tf_cos  \\\n",
       "1   Clifford Chance is a professional legal servic...      1.0  0.150290   \n",
       "6   a.) Data is accessed using standard tools and ...      1.0  0.385104   \n",
       "8   c.) Data is stored on secure servers within a ...      1.0  0.179725   \n",
       "9   d.) Asset and Information Disposal is covered ...      1.0  0.413751   \n",
       "12  3.) Email is recieved from Citi via email tran...      1.0  0.081058   \n",
       "\n",
       "    bitf_cos  \n",
       "1   0.142950  \n",
       "6   0.304514  \n",
       "8   0.090011  \n",
       "9   0.295674  \n",
       "12  0.092515  "
      ]
     },
     "execution_count": 10,
     "metadata": {},
     "output_type": "execute_result"
    }
   ],
   "source": [
    "test.head()"
   ]
  },
  {
   "cell_type": "code",
   "execution_count": 11,
   "metadata": {},
   "outputs": [
    {
     "data": {
      "text/html": [
       "<div>\n",
       "<style scoped>\n",
       "    .dataframe tbody tr th:only-of-type {\n",
       "        vertical-align: middle;\n",
       "    }\n",
       "\n",
       "    .dataframe tbody tr th {\n",
       "        vertical-align: top;\n",
       "    }\n",
       "\n",
       "    .dataframe thead th {\n",
       "        text-align: right;\n",
       "    }\n",
       "</style>\n",
       "<table border=\"1\" class=\"dataframe\">\n",
       "  <thead>\n",
       "    <tr style=\"text-align: right;\">\n",
       "      <th></th>\n",
       "      <th>Unnamed: 0</th>\n",
       "      <th>score</th>\n",
       "      <th>cos_sim</th>\n",
       "      <th>kl_lm</th>\n",
       "      <th>kl_bilm</th>\n",
       "      <th>score.1</th>\n",
       "      <th>tf_cos</th>\n",
       "      <th>bitf_cos</th>\n",
       "    </tr>\n",
       "  </thead>\n",
       "  <tbody>\n",
       "    <tr>\n",
       "      <th>count</th>\n",
       "      <td>1575.000000</td>\n",
       "      <td>1575.000000</td>\n",
       "      <td>1575.000000</td>\n",
       "      <td>1575.000000</td>\n",
       "      <td>1575.000000</td>\n",
       "      <td>1575.000000</td>\n",
       "      <td>1575.000000</td>\n",
       "      <td>1575.000000</td>\n",
       "    </tr>\n",
       "    <tr>\n",
       "      <th>mean</th>\n",
       "      <td>2137.638730</td>\n",
       "      <td>0.491429</td>\n",
       "      <td>0.722384</td>\n",
       "      <td>12.459440</td>\n",
       "      <td>112.987505</td>\n",
       "      <td>0.491429</td>\n",
       "      <td>0.072365</td>\n",
       "      <td>0.058766</td>\n",
       "    </tr>\n",
       "    <tr>\n",
       "      <th>std</th>\n",
       "      <td>1223.135558</td>\n",
       "      <td>0.500085</td>\n",
       "      <td>0.180700</td>\n",
       "      <td>3.923943</td>\n",
       "      <td>89.623081</td>\n",
       "      <td>0.500085</td>\n",
       "      <td>0.114006</td>\n",
       "      <td>0.100094</td>\n",
       "    </tr>\n",
       "    <tr>\n",
       "      <th>min</th>\n",
       "      <td>1.000000</td>\n",
       "      <td>0.000000</td>\n",
       "      <td>0.000000</td>\n",
       "      <td>-0.026829</td>\n",
       "      <td>-0.173549</td>\n",
       "      <td>0.000000</td>\n",
       "      <td>0.000000</td>\n",
       "      <td>0.000000</td>\n",
       "    </tr>\n",
       "    <tr>\n",
       "      <th>25%</th>\n",
       "      <td>1097.000000</td>\n",
       "      <td>0.000000</td>\n",
       "      <td>0.624212</td>\n",
       "      <td>10.405843</td>\n",
       "      <td>55.155420</td>\n",
       "      <td>0.000000</td>\n",
       "      <td>0.000000</td>\n",
       "      <td>0.000000</td>\n",
       "    </tr>\n",
       "    <tr>\n",
       "      <th>50%</th>\n",
       "      <td>2154.000000</td>\n",
       "      <td>0.000000</td>\n",
       "      <td>0.763764</td>\n",
       "      <td>12.023751</td>\n",
       "      <td>89.772127</td>\n",
       "      <td>0.000000</td>\n",
       "      <td>0.028416</td>\n",
       "      <td>0.021366</td>\n",
       "    </tr>\n",
       "    <tr>\n",
       "      <th>75%</th>\n",
       "      <td>3186.000000</td>\n",
       "      <td>1.000000</td>\n",
       "      <td>0.850183</td>\n",
       "      <td>14.027556</td>\n",
       "      <td>140.143710</td>\n",
       "      <td>1.000000</td>\n",
       "      <td>0.097094</td>\n",
       "      <td>0.079452</td>\n",
       "    </tr>\n",
       "    <tr>\n",
       "      <th>max</th>\n",
       "      <td>4231.000000</td>\n",
       "      <td>1.000000</td>\n",
       "      <td>0.999906</td>\n",
       "      <td>40.189381</td>\n",
       "      <td>812.581794</td>\n",
       "      <td>1.000000</td>\n",
       "      <td>0.966798</td>\n",
       "      <td>0.963158</td>\n",
       "    </tr>\n",
       "  </tbody>\n",
       "</table>\n",
       "</div>"
      ],
      "text/plain": [
       "        Unnamed: 0        score      cos_sim        kl_lm      kl_bilm  \\\n",
       "count  1575.000000  1575.000000  1575.000000  1575.000000  1575.000000   \n",
       "mean   2137.638730     0.491429     0.722384    12.459440   112.987505   \n",
       "std    1223.135558     0.500085     0.180700     3.923943    89.623081   \n",
       "min       1.000000     0.000000     0.000000    -0.026829    -0.173549   \n",
       "25%    1097.000000     0.000000     0.624212    10.405843    55.155420   \n",
       "50%    2154.000000     0.000000     0.763764    12.023751    89.772127   \n",
       "75%    3186.000000     1.000000     0.850183    14.027556   140.143710   \n",
       "max    4231.000000     1.000000     0.999906    40.189381   812.581794   \n",
       "\n",
       "           score.1       tf_cos     bitf_cos  \n",
       "count  1575.000000  1575.000000  1575.000000  \n",
       "mean      0.491429     0.072365     0.058766  \n",
       "std       0.500085     0.114006     0.100094  \n",
       "min       0.000000     0.000000     0.000000  \n",
       "25%       0.000000     0.000000     0.000000  \n",
       "50%       0.000000     0.028416     0.021366  \n",
       "75%       1.000000     0.097094     0.079452  \n",
       "max       1.000000     0.966798     0.963158  "
      ]
     },
     "execution_count": 11,
     "metadata": {},
     "output_type": "execute_result"
    }
   ],
   "source": [
    "test.describe()"
   ]
  },
  {
   "cell_type": "code",
   "execution_count": 12,
   "metadata": {
    "collapsed": true
   },
   "outputs": [],
   "source": [
    "from sklearn.linear_model import LinearRegression"
   ]
  },
  {
   "cell_type": "code",
   "execution_count": 13,
   "metadata": {
    "collapsed": true
   },
   "outputs": [],
   "source": [
    "lr = LinearRegression()"
   ]
  },
  {
   "cell_type": "code",
   "execution_count": 14,
   "metadata": {
    "collapsed": true
   },
   "outputs": [],
   "source": [
    "X = train[['cos_sim', 'kl_lm', 'kl_bilm', 'tf_cos', 'bitf_cos']]"
   ]
  },
  {
   "cell_type": "code",
   "execution_count": 15,
   "metadata": {},
   "outputs": [
    {
     "data": {
      "text/html": [
       "<div>\n",
       "<style scoped>\n",
       "    .dataframe tbody tr th:only-of-type {\n",
       "        vertical-align: middle;\n",
       "    }\n",
       "\n",
       "    .dataframe tbody tr th {\n",
       "        vertical-align: top;\n",
       "    }\n",
       "\n",
       "    .dataframe thead th {\n",
       "        text-align: right;\n",
       "    }\n",
       "</style>\n",
       "<table border=\"1\" class=\"dataframe\">\n",
       "  <thead>\n",
       "    <tr style=\"text-align: right;\">\n",
       "      <th></th>\n",
       "      <th>cos_sim</th>\n",
       "      <th>kl_lm</th>\n",
       "      <th>kl_bilm</th>\n",
       "      <th>tf_cos</th>\n",
       "      <th>bitf_cos</th>\n",
       "    </tr>\n",
       "  </thead>\n",
       "  <tbody>\n",
       "    <tr>\n",
       "      <th>2732</th>\n",
       "      <td>0.598742</td>\n",
       "      <td>17.984985</td>\n",
       "      <td>211.967140</td>\n",
       "      <td>0.023543</td>\n",
       "      <td>0.028648</td>\n",
       "    </tr>\n",
       "    <tr>\n",
       "      <th>2607</th>\n",
       "      <td>0.490721</td>\n",
       "      <td>12.716898</td>\n",
       "      <td>25.192032</td>\n",
       "      <td>0.000000</td>\n",
       "      <td>0.000000</td>\n",
       "    </tr>\n",
       "    <tr>\n",
       "      <th>1653</th>\n",
       "      <td>0.963658</td>\n",
       "      <td>9.440204</td>\n",
       "      <td>60.635024</td>\n",
       "      <td>0.108393</td>\n",
       "      <td>0.113690</td>\n",
       "    </tr>\n",
       "    <tr>\n",
       "      <th>3264</th>\n",
       "      <td>0.744258</td>\n",
       "      <td>14.765810</td>\n",
       "      <td>118.646478</td>\n",
       "      <td>0.009459</td>\n",
       "      <td>0.007612</td>\n",
       "    </tr>\n",
       "    <tr>\n",
       "      <th>1033</th>\n",
       "      <td>0.601368</td>\n",
       "      <td>12.773294</td>\n",
       "      <td>127.290867</td>\n",
       "      <td>0.000000</td>\n",
       "      <td>0.000000</td>\n",
       "    </tr>\n",
       "  </tbody>\n",
       "</table>\n",
       "</div>"
      ],
      "text/plain": [
       "       cos_sim      kl_lm     kl_bilm    tf_cos  bitf_cos\n",
       "2732  0.598742  17.984985  211.967140  0.023543  0.028648\n",
       "2607  0.490721  12.716898   25.192032  0.000000  0.000000\n",
       "1653  0.963658   9.440204   60.635024  0.108393  0.113690\n",
       "3264  0.744258  14.765810  118.646478  0.009459  0.007612\n",
       "1033  0.601368  12.773294  127.290867  0.000000  0.000000"
      ]
     },
     "execution_count": 15,
     "metadata": {},
     "output_type": "execute_result"
    }
   ],
   "source": [
    "X.head()"
   ]
  },
  {
   "cell_type": "code",
   "execution_count": 16,
   "metadata": {
    "collapsed": true
   },
   "outputs": [],
   "source": [
    "y = train[['score']]"
   ]
  },
  {
   "cell_type": "code",
   "execution_count": 17,
   "metadata": {},
   "outputs": [
    {
     "data": {
      "text/html": [
       "<div>\n",
       "<style scoped>\n",
       "    .dataframe tbody tr th:only-of-type {\n",
       "        vertical-align: middle;\n",
       "    }\n",
       "\n",
       "    .dataframe tbody tr th {\n",
       "        vertical-align: top;\n",
       "    }\n",
       "\n",
       "    .dataframe thead th {\n",
       "        text-align: right;\n",
       "    }\n",
       "</style>\n",
       "<table border=\"1\" class=\"dataframe\">\n",
       "  <thead>\n",
       "    <tr style=\"text-align: right;\">\n",
       "      <th></th>\n",
       "      <th>score</th>\n",
       "    </tr>\n",
       "  </thead>\n",
       "  <tbody>\n",
       "    <tr>\n",
       "      <th>2732</th>\n",
       "      <td>0.0</td>\n",
       "    </tr>\n",
       "    <tr>\n",
       "      <th>2607</th>\n",
       "      <td>0.0</td>\n",
       "    </tr>\n",
       "    <tr>\n",
       "      <th>1653</th>\n",
       "      <td>1.0</td>\n",
       "    </tr>\n",
       "    <tr>\n",
       "      <th>3264</th>\n",
       "      <td>0.0</td>\n",
       "    </tr>\n",
       "    <tr>\n",
       "      <th>1033</th>\n",
       "      <td>1.0</td>\n",
       "    </tr>\n",
       "  </tbody>\n",
       "</table>\n",
       "</div>"
      ],
      "text/plain": [
       "      score\n",
       "2732    0.0\n",
       "2607    0.0\n",
       "1653    1.0\n",
       "3264    0.0\n",
       "1033    1.0"
      ]
     },
     "execution_count": 17,
     "metadata": {},
     "output_type": "execute_result"
    }
   ],
   "source": [
    "y.head()"
   ]
  },
  {
   "cell_type": "code",
   "execution_count": 18,
   "metadata": {},
   "outputs": [
    {
     "data": {
      "text/plain": [
       "LinearRegression(copy_X=True, fit_intercept=True, n_jobs=1, normalize=False)"
      ]
     },
     "execution_count": 18,
     "metadata": {},
     "output_type": "execute_result"
    }
   ],
   "source": [
    "lr.fit(X, y)"
   ]
  },
  {
   "cell_type": "code",
   "execution_count": 19,
   "metadata": {
    "collapsed": true
   },
   "outputs": [],
   "source": [
    "X_test = test[['cos_sim', 'kl_lm', 'kl_bilm', 'tf_cos', 'bitf_cos']]"
   ]
  },
  {
   "cell_type": "code",
   "execution_count": 20,
   "metadata": {
    "collapsed": true
   },
   "outputs": [],
   "source": [
    "y_test = test[['score']]"
   ]
  },
  {
   "cell_type": "code",
   "execution_count": 21,
   "metadata": {
    "collapsed": true
   },
   "outputs": [],
   "source": [
    "pre = lr.predict(X_test)"
   ]
  },
  {
   "cell_type": "code",
   "execution_count": 22,
   "metadata": {},
   "outputs": [
    {
     "data": {
      "text/plain": [
       "array([[0.64554578],\n",
       "       [1.01716024],\n",
       "       [0.70394   ],\n",
       "       ...,\n",
       "       [0.46001544],\n",
       "       [0.39694574],\n",
       "       [0.42109899]])"
      ]
     },
     "execution_count": 22,
     "metadata": {},
     "output_type": "execute_result"
    }
   ],
   "source": [
    "pre"
   ]
  },
  {
   "cell_type": "code",
   "execution_count": 23,
   "metadata": {},
   "outputs": [
    {
     "data": {
      "text/plain": [
       "0.4202762795032939"
      ]
     },
     "execution_count": 23,
     "metadata": {},
     "output_type": "execute_result"
    }
   ],
   "source": [
    "from sklearn.metrics import mean_absolute_error\n",
    "mean_absolute_error(y_test,pre)"
   ]
  },
  {
   "cell_type": "code",
   "execution_count": 24,
   "metadata": {},
   "outputs": [
    {
     "data": {
      "text/plain": [
       "0.20163376336996255"
      ]
     },
     "execution_count": 24,
     "metadata": {},
     "output_type": "execute_result"
    }
   ],
   "source": [
    "from sklearn.metrics import mean_squared_error\n",
    "mean_squared_error(y_test, pre)"
   ]
  },
  {
   "cell_type": "code",
   "execution_count": 25,
   "metadata": {},
   "outputs": [
    {
     "data": {
      "text/plain": [
       "0.19322785429773937"
      ]
     },
     "execution_count": 25,
     "metadata": {},
     "output_type": "execute_result"
    }
   ],
   "source": [
    "from sklearn.metrics import r2_score\n",
    "r2_score(y_test, pre)"
   ]
  },
  {
   "cell_type": "code",
   "execution_count": 26,
   "metadata": {},
   "outputs": [
    {
     "data": {
      "text/plain": [
       "array([[ 4.37898798e-01, -1.03347091e-02, -1.21750821e-05,\n",
       "         1.11180427e+00,  9.46567770e-02]])"
      ]
     },
     "execution_count": 26,
     "metadata": {},
     "output_type": "execute_result"
    }
   ],
   "source": [
    "lr.coef_"
   ]
  },
  {
   "cell_type": "code",
   "execution_count": 27,
   "metadata": {},
   "outputs": [
    {
     "data": {
      "text/plain": [
       "0.19322785429773937"
      ]
     },
     "execution_count": 27,
     "metadata": {},
     "output_type": "execute_result"
    }
   ],
   "source": [
    "lr.score(X_test, y_test)"
   ]
  },
  {
   "cell_type": "code",
   "execution_count": 28,
   "metadata": {
    "collapsed": true
   },
   "outputs": [],
   "source": [
    "from sklearn.linear_model import LogisticRegression"
   ]
  },
  {
   "cell_type": "code",
   "execution_count": 29,
   "metadata": {
    "collapsed": true
   },
   "outputs": [],
   "source": [
    "lc = LogisticRegression()"
   ]
  },
  {
   "cell_type": "code",
   "execution_count": 30,
   "metadata": {},
   "outputs": [
    {
     "name": "stderr",
     "output_type": "stream",
     "text": [
      "/anaconda/envs/py35/lib/python3.5/site-packages/sklearn/utils/validation.py:578: DataConversionWarning: A column-vector y was passed when a 1d array was expected. Please change the shape of y to (n_samples, ), for example using ravel().\n",
      "  y = column_or_1d(y, warn=True)\n"
     ]
    },
    {
     "data": {
      "text/plain": [
       "LogisticRegression(C=1.0, class_weight=None, dual=False, fit_intercept=True,\n",
       "          intercept_scaling=1, max_iter=100, multi_class='ovr', n_jobs=1,\n",
       "          penalty='l2', random_state=None, solver='liblinear', tol=0.0001,\n",
       "          verbose=0, warm_start=False)"
      ]
     },
     "execution_count": 30,
     "metadata": {},
     "output_type": "execute_result"
    }
   ],
   "source": [
    "lc.fit(X, y)"
   ]
  },
  {
   "cell_type": "code",
   "execution_count": 31,
   "metadata": {},
   "outputs": [
    {
     "data": {
      "text/plain": [
       "0.726984126984127"
      ]
     },
     "execution_count": 31,
     "metadata": {},
     "output_type": "execute_result"
    }
   ],
   "source": [
    "lc.score(X_test, y_test)"
   ]
  },
  {
   "cell_type": "code",
   "execution_count": 32,
   "metadata": {},
   "outputs": [
    {
     "data": {
      "text/plain": [
       "array([1., 1., 1., ..., 0., 0., 0.])"
      ]
     },
     "execution_count": 32,
     "metadata": {},
     "output_type": "execute_result"
    }
   ],
   "source": [
    "lc.predict(X_test)"
   ]
  },
  {
   "cell_type": "code",
   "execution_count": 33,
   "metadata": {},
   "outputs": [
    {
     "data": {
      "text/plain": [
       "array([[ 1.44113377e+00, -4.80056105e-02, -3.40360538e-04,\n",
       "         6.06167002e+00,  6.82940563e+00]])"
      ]
     },
     "execution_count": 33,
     "metadata": {},
     "output_type": "execute_result"
    }
   ],
   "source": [
    "lc.coef_"
   ]
  },
  {
   "cell_type": "code",
   "execution_count": 34,
   "metadata": {},
   "outputs": [
    {
     "data": {
      "text/plain": [
       "array([[0.18659167, 0.81340833],\n",
       "       [0.01231137, 0.98768863],\n",
       "       [0.1941328 , 0.8058672 ],\n",
       "       ...,\n",
       "       [0.5990986 , 0.4009014 ],\n",
       "       [0.61617333, 0.38382667],\n",
       "       [0.64277418, 0.35722582]])"
      ]
     },
     "execution_count": 34,
     "metadata": {},
     "output_type": "execute_result"
    }
   ],
   "source": [
    "lc.predict_proba(X_test)"
   ]
  },
  {
   "cell_type": "code",
   "execution_count": 35,
   "metadata": {},
   "outputs": [
    {
     "data": {
      "text/plain": [
       "0.18839479255088654"
      ]
     },
     "execution_count": 35,
     "metadata": {},
     "output_type": "execute_result"
    }
   ],
   "source": [
    "mean_squared_error(y_test, lc.predict_proba(X_test)[:,1])"
   ]
  },
  {
   "cell_type": "code",
   "execution_count": 36,
   "metadata": {
    "collapsed": true
   },
   "outputs": [],
   "source": [
    "from sklearn.metrics import accuracy_score, roc_auc_score, precision_score, recall_score, f1_score, confusion_matrix,roc_curve"
   ]
  },
  {
   "cell_type": "code",
   "execution_count": 37,
   "metadata": {},
   "outputs": [
    {
     "data": {
      "text/plain": [
       "0.726984126984127"
      ]
     },
     "execution_count": 37,
     "metadata": {},
     "output_type": "execute_result"
    }
   ],
   "source": [
    "accuracy_score(y_test, lc.predict(X_test))"
   ]
  },
  {
   "cell_type": "code",
   "execution_count": 38,
   "metadata": {},
   "outputs": [
    {
     "data": {
      "text/plain": [
       "0.7250965363063613"
      ]
     },
     "execution_count": 38,
     "metadata": {},
     "output_type": "execute_result"
    }
   ],
   "source": [
    "roc_auc_score(y_test, lc.predict(X_test))"
   ]
  },
  {
   "cell_type": "code",
   "execution_count": 39,
   "metadata": {},
   "outputs": [
    {
     "data": {
      "text/plain": [
       "0.7828947368421053"
      ]
     },
     "execution_count": 39,
     "metadata": {},
     "output_type": "execute_result"
    }
   ],
   "source": [
    "precision_score(y_test, lc.predict(X_test))"
   ]
  },
  {
   "cell_type": "code",
   "execution_count": 40,
   "metadata": {},
   "outputs": [
    {
     "data": {
      "text/plain": [
       "0.6149870801033591"
      ]
     },
     "execution_count": 40,
     "metadata": {},
     "output_type": "execute_result"
    }
   ],
   "source": [
    "recall_score(y_test, lc.predict(X_test))"
   ]
  },
  {
   "cell_type": "code",
   "execution_count": 41,
   "metadata": {},
   "outputs": [
    {
     "data": {
      "text/plain": [
       "0.6888567293777134"
      ]
     },
     "execution_count": 41,
     "metadata": {},
     "output_type": "execute_result"
    }
   ],
   "source": [
    "f1_score(y_test, lc.predict(X_test))"
   ]
  },
  {
   "cell_type": "code",
   "execution_count": 42,
   "metadata": {
    "collapsed": true
   },
   "outputs": [],
   "source": [
    "import matplotlib.pyplot as plt"
   ]
  },
  {
   "cell_type": "code",
   "execution_count": 43,
   "metadata": {
    "collapsed": true
   },
   "outputs": [],
   "source": [
    "def roc(y_class, y_pred):\n",
    "    fpr, tpr, thresh = roc_curve(y_class, y_pred)\n",
    "    auc = roc_auc_score(y_class, y_pred)\n",
    "    print(\"AUC:\",auc)\n",
    "    \n",
    "    plt.plot(fpr, tpr, label='ROC curve (area = %0.3f)' % auc)\n",
    "    plt.plot([0,1], [0,1], 'r--')\n",
    "    plt.xlabel('False Positive Rate')\n",
    "    plt.ylabel('True Positive Rate')\n",
    "    plt.title('ROC curve')\n",
    "    plt.grid(True)\n",
    "    plt.show()"
   ]
  },
  {
   "cell_type": "code",
   "execution_count": 44,
   "metadata": {},
   "outputs": [
    {
     "name": "stdout",
     "output_type": "stream",
     "text": [
      "AUC: 0.7250965363063613\n"
     ]
    },
    {
     "data": {
      "image/png": "[encoded data removed]",
      "text/plain": [
       "<matplotlib.figure.Figure at 0x7fbb7ccf7320>"
      ]
     },
     "metadata": {},
     "output_type": "display_data"
    }
   ],
   "source": [
    "roc(y_test, lc.predict(X_test))"
   ]
  },
  {
   "cell_type": "code",
   "execution_count": 45,
   "metadata": {
    "collapsed": true
   },
   "outputs": [],
   "source": [
    "from sklearn.metrics import classification_report"
   ]
  },
  {
   "cell_type": "code",
   "execution_count": 46,
   "metadata": {},
   "outputs": [
    {
     "name": "stdout",
     "output_type": "stream",
     "text": [
      "             precision    recall  f1-score   support\n",
      "\n",
      "        0.0       0.69      0.84      0.76       801\n",
      "        1.0       0.78      0.61      0.69       774\n",
      "\n",
      "avg / total       0.74      0.73      0.72      1575\n",
      "\n"
     ]
    }
   ],
   "source": [
    "print(classification_report(y_test, lc.predict(X_test)))"
   ]
  },
  {
   "cell_type": "markdown",
   "metadata": {},
   "source": [
    "# Naive Bayes"
   ]
  },
  {
   "cell_type": "code",
   "execution_count": 47,
   "metadata": {
    "collapsed": true
   },
   "outputs": [],
   "source": [
    "from sklearn.naive_bayes import MultinomialNB"
   ]
  },
  {
   "cell_type": "code",
   "execution_count": 48,
   "metadata": {
    "collapsed": true
   },
   "outputs": [],
   "source": [
    "nb = MultinomialNB()"
   ]
  },
  {
   "cell_type": "code",
   "execution_count": 49,
   "metadata": {},
   "outputs": [
    {
     "name": "stderr",
     "output_type": "stream",
     "text": [
      "/anaconda/envs/py35/lib/python3.5/site-packages/sklearn/utils/validation.py:578: DataConversionWarning: A column-vector y was passed when a 1d array was expected. Please change the shape of y to (n_samples, ), for example using ravel().\n",
      "  y = column_or_1d(y, warn=True)\n"
     ]
    },
    {
     "data": {
      "text/plain": [
       "MultinomialNB(alpha=1.0, class_prior=None, fit_prior=True)"
      ]
     },
     "execution_count": 49,
     "metadata": {},
     "output_type": "execute_result"
    }
   ],
   "source": [
    "nb.fit(X, y)"
   ]
  },
  {
   "cell_type": "code",
   "execution_count": 50,
   "metadata": {},
   "outputs": [
    {
     "data": {
      "text/plain": [
       "0.7193650793650793"
      ]
     },
     "execution_count": 50,
     "metadata": {},
     "output_type": "execute_result"
    }
   ],
   "source": [
    "nb.score(X_test, y_test)"
   ]
  },
  {
   "cell_type": "code",
   "execution_count": 51,
   "metadata": {},
   "outputs": [
    {
     "data": {
      "text/plain": [
       "0.7193650793650793"
      ]
     },
     "execution_count": 51,
     "metadata": {},
     "output_type": "execute_result"
    }
   ],
   "source": [
    "accuracy_score(y_test, nb.predict(X_test))"
   ]
  },
  {
   "cell_type": "code",
   "execution_count": 52,
   "metadata": {},
   "outputs": [
    {
     "name": "stdout",
     "output_type": "stream",
     "text": [
      "             precision    recall  f1-score   support\n",
      "\n",
      "        0.0       0.68      0.84      0.75       801\n",
      "        1.0       0.78      0.59      0.67       774\n",
      "\n",
      "avg / total       0.73      0.72      0.71      1575\n",
      "\n"
     ]
    }
   ],
   "source": [
    "print(classification_report(y_test, nb.predict(X_test)))"
   ]
  },
  {
   "cell_type": "code",
   "execution_count": 53,
   "metadata": {},
   "outputs": [
    {
     "name": "stdout",
     "output_type": "stream",
     "text": [
      "AUC: 0.7172357227883751\n"
     ]
    },
    {
     "data": {
      "image/png": "[encoded data removed]",
      "text/plain": [
       "<matplotlib.figure.Figure at 0x7fbb7ccd9470>"
      ]
     },
     "metadata": {},
     "output_type": "display_data"
    }
   ],
   "source": [
    "roc(y_test, nb.predict(X_test))"
   ]
  },
  {
   "cell_type": "markdown",
   "metadata": {},
   "source": [
    "# KNN"
   ]
  },
  {
   "cell_type": "code",
   "execution_count": 54,
   "metadata": {
    "collapsed": true
   },
   "outputs": [],
   "source": [
    "from sklearn.neighbors import KNeighborsClassifier"
   ]
  },
  {
   "cell_type": "code",
   "execution_count": 55,
   "metadata": {
    "collapsed": true
   },
   "outputs": [],
   "source": [
    "knn = KNeighborsClassifier()"
   ]
  },
  {
   "cell_type": "code",
   "execution_count": 56,
   "metadata": {},
   "outputs": [
    {
     "name": "stderr",
     "output_type": "stream",
     "text": [
      "/anaconda/envs/py35/lib/python3.5/site-packages/ipykernel_launcher.py:1: DataConversionWarning: A column-vector y was passed when a 1d array was expected. Please change the shape of y to (n_samples, ), for example using ravel().\n",
      "  \"\"\"Entry point for launching an IPython kernel.\n"
     ]
    },
    {
     "data": {
      "text/plain": [
       "KNeighborsClassifier(algorithm='auto', leaf_size=30, metric='minkowski',\n",
       "           metric_params=None, n_jobs=1, n_neighbors=5, p=2,\n",
       "           weights='uniform')"
      ]
     },
     "execution_count": 56,
     "metadata": {},
     "output_type": "execute_result"
    }
   ],
   "source": [
    "knn.fit(X, y)"
   ]
  },
  {
   "cell_type": "code",
   "execution_count": 57,
   "metadata": {},
   "outputs": [
    {
     "data": {
      "text/plain": [
       "0.6107936507936508"
      ]
     },
     "execution_count": 57,
     "metadata": {},
     "output_type": "execute_result"
    }
   ],
   "source": [
    "knn.score(X_test, y_test)"
   ]
  },
  {
   "cell_type": "code",
   "execution_count": 58,
   "metadata": {},
   "outputs": [
    {
     "data": {
      "text/plain": [
       "0.6107936507936508"
      ]
     },
     "execution_count": 58,
     "metadata": {},
     "output_type": "execute_result"
    }
   ],
   "source": [
    "accuracy_score(y_test, knn.predict(X_test))"
   ]
  },
  {
   "cell_type": "code",
   "execution_count": 59,
   "metadata": {},
   "outputs": [
    {
     "name": "stdout",
     "output_type": "stream",
     "text": [
      "             precision    recall  f1-score   support\n",
      "\n",
      "        0.0       0.61      0.64      0.63       801\n",
      "        1.0       0.61      0.58      0.59       774\n",
      "\n",
      "avg / total       0.61      0.61      0.61      1575\n",
      "\n"
     ]
    }
   ],
   "source": [
    "print(classification_report(y_test, knn.predict(X_test)))"
   ]
  },
  {
   "cell_type": "code",
   "execution_count": 60,
   "metadata": {},
   "outputs": [
    {
     "name": "stdout",
     "output_type": "stream",
     "text": [
      "AUC: 0.6102763986876869\n"
     ]
    },
    {
     "data": {
      "image/png": "[encoded data removed]",
      "text/plain": [
       "<matplotlib.figure.Figure at 0x7fbb7cc9ef60>"
      ]
     },
     "metadata": {},
     "output_type": "display_data"
    }
   ],
   "source": [
    "roc(y_test, knn.predict(X_test))"
   ]
  },
  {
   "cell_type": "markdown",
   "metadata": {},
   "source": [
    "# SVM"
   ]
  },
  {
   "cell_type": "code",
   "execution_count": 61,
   "metadata": {
    "collapsed": true
   },
   "outputs": [],
   "source": [
    "from sklearn.svm import SVC"
   ]
  },
  {
   "cell_type": "code",
   "execution_count": 62,
   "metadata": {
    "collapsed": true
   },
   "outputs": [],
   "source": [
    "svc =SVC(kernel = 'linear')"
   ]
  },
  {
   "cell_type": "code",
   "execution_count": 63,
   "metadata": {
    "collapsed": true
   },
   "outputs": [],
   "source": [
    "y = y.values"
   ]
  },
  {
   "cell_type": "code",
   "execution_count": 64,
   "metadata": {},
   "outputs": [
    {
     "data": {
      "text/plain": [
       "SVC(C=1.0, cache_size=200, class_weight=None, coef0=0.0,\n",
       "  decision_function_shape='ovr', degree=3, gamma='auto', kernel='linear',\n",
       "  max_iter=-1, probability=False, random_state=None, shrinking=True,\n",
       "  tol=0.001, verbose=False)"
      ]
     },
     "execution_count": 64,
     "metadata": {},
     "output_type": "execute_result"
    }
   ],
   "source": [
    "svc.fit(X, y.reshape(4232, ))"
   ]
  },
  {
   "cell_type": "code",
   "execution_count": 65,
   "metadata": {},
   "outputs": [
    {
     "data": {
      "text/plain": [
       "0.7403174603174603"
      ]
     },
     "execution_count": 65,
     "metadata": {},
     "output_type": "execute_result"
    }
   ],
   "source": [
    "svc.score(X_test, y_test)"
   ]
  },
  {
   "cell_type": "code",
   "execution_count": 66,
   "metadata": {},
   "outputs": [
    {
     "data": {
      "text/plain": [
       "0.7403174603174603"
      ]
     },
     "execution_count": 66,
     "metadata": {},
     "output_type": "execute_result"
    }
   ],
   "source": [
    "accuracy_score(y_test, svc.predict(X_test))"
   ]
  },
  {
   "cell_type": "code",
   "execution_count": 67,
   "metadata": {},
   "outputs": [
    {
     "name": "stdout",
     "output_type": "stream",
     "text": [
      "             precision    recall  f1-score   support\n",
      "\n",
      "        0.0       0.68      0.92      0.78       801\n",
      "        1.0       0.87      0.56      0.68       774\n",
      "\n",
      "avg / total       0.77      0.74      0.73      1575\n",
      "\n"
     ]
    }
   ],
   "source": [
    "print(classification_report(y_test, svc.predict(X_test)))"
   ]
  },
  {
   "cell_type": "code",
   "execution_count": 68,
   "metadata": {},
   "outputs": [
    {
     "name": "stdout",
     "output_type": "stream",
     "text": [
      "AUC: 0.737203495630462\n"
     ]
    },
    {
     "data": {
      "image/png": "[encoded data removed]",
      "text/plain": [
       "<matplotlib.figure.Figure at 0x7fbb7cc5c2e8>"
      ]
     },
     "metadata": {},
     "output_type": "display_data"
    }
   ],
   "source": [
    "roc(y_test, svc.predict(X_test))"
   ]
  },
  {
   "cell_type": "code",
   "execution_count": 69,
   "metadata": {},
   "outputs": [
    {
     "data": {
      "text/plain": [
       "array([[736,  65],\n",
       "       [344, 430]])"
      ]
     },
     "execution_count": 69,
     "metadata": {},
     "output_type": "execute_result"
    }
   ],
   "source": [
    "confusion_matrix(y_test, svc.predict(X_test))"
   ]
  },
  {
   "cell_type": "markdown",
   "metadata": {},
   "source": [
    "# decision tree"
   ]
  },
  {
   "cell_type": "code",
   "execution_count": 70,
   "metadata": {
    "collapsed": true
   },
   "outputs": [],
   "source": [
    "from sklearn.tree import DecisionTreeClassifier"
   ]
  },
  {
   "cell_type": "code",
   "execution_count": 91,
   "metadata": {
    "collapsed": true
   },
   "outputs": [],
   "source": [
    "dt = DecisionTreeClassifier(max_depth = 5)"
   ]
  },
  {
   "cell_type": "code",
   "execution_count": 92,
   "metadata": {},
   "outputs": [
    {
     "data": {
      "text/plain": [
       "DecisionTreeClassifier(class_weight=None, criterion='gini', max_depth=5,\n",
       "            max_features=None, max_leaf_nodes=None,\n",
       "            min_impurity_decrease=0.0, min_impurity_split=None,\n",
       "            min_samples_leaf=1, min_samples_split=2,\n",
       "            min_weight_fraction_leaf=0.0, presort=False, random_state=None,\n",
       "            splitter='best')"
      ]
     },
     "execution_count": 92,
     "metadata": {},
     "output_type": "execute_result"
    }
   ],
   "source": [
    "dt.fit(X, y)"
   ]
  },
  {
   "cell_type": "code",
   "execution_count": 93,
   "metadata": {},
   "outputs": [
    {
     "data": {
      "text/plain": [
       "0.7453968253968254"
      ]
     },
     "execution_count": 93,
     "metadata": {},
     "output_type": "execute_result"
    }
   ],
   "source": [
    "dt.score(X_test, y_test)"
   ]
  },
  {
   "cell_type": "code",
   "execution_count": 94,
   "metadata": {},
   "outputs": [
    {
     "data": {
      "text/plain": [
       "0.7774102079395085"
      ]
     },
     "execution_count": 94,
     "metadata": {},
     "output_type": "execute_result"
    }
   ],
   "source": [
    "dt.score(X, y)"
   ]
  },
  {
   "cell_type": "code",
   "execution_count": 95,
   "metadata": {},
   "outputs": [
    {
     "data": {
      "text/plain": [
       "0.7453968253968254"
      ]
     },
     "execution_count": 95,
     "metadata": {},
     "output_type": "execute_result"
    }
   ],
   "source": [
    "accuracy_score(y_test, dt.predict(X_test))"
   ]
  },
  {
   "cell_type": "code",
   "execution_count": 96,
   "metadata": {},
   "outputs": [
    {
     "name": "stdout",
     "output_type": "stream",
     "text": [
      "             precision    recall  f1-score   support\n",
      "\n",
      "        0.0       0.70      0.87      0.78       801\n",
      "        1.0       0.82      0.62      0.70       774\n",
      "\n",
      "avg / total       0.76      0.75      0.74      1575\n",
      "\n"
     ]
    }
   ],
   "source": [
    "print(classification_report(y_test, dt.predict(X_test)))"
   ]
  },
  {
   "cell_type": "code",
   "execution_count": 97,
   "metadata": {},
   "outputs": [
    {
     "name": "stdout",
     "output_type": "stream",
     "text": [
      "AUC: 0.7432424585547136\n"
     ]
    },
    {
     "data": {
      "image/png": "[encoded data removed]",
      "text/plain": [
       "<matplotlib.figure.Figure at 0x7fbb7cb7e0b8>"
      ]
     },
     "metadata": {},
     "output_type": "display_data"
    }
   ],
   "source": [
    "roc(y_test, dt.predict(X_test))"
   ]
  },
  {
   "cell_type": "markdown",
   "metadata": {},
   "source": [
    "# random forest"
   ]
  },
  {
   "cell_type": "code",
   "execution_count": 98,
   "metadata": {
    "collapsed": true
   },
   "outputs": [],
   "source": [
    "from sklearn.ensemble import RandomForestClassifier"
   ]
  },
  {
   "cell_type": "code",
   "execution_count": 147,
   "metadata": {
    "collapsed": true
   },
   "outputs": [],
   "source": [
    "rf = RandomForestClassifier(max_depth = 5)"
   ]
  },
  {
   "cell_type": "code",
   "execution_count": 148,
   "metadata": {},
   "outputs": [
    {
     "name": "stderr",
     "output_type": "stream",
     "text": [
      "/anaconda/envs/py35/lib/python3.5/site-packages/ipykernel_launcher.py:1: DataConversionWarning: A column-vector y was passed when a 1d array was expected. Please change the shape of y to (n_samples,), for example using ravel().\n",
      "  \"\"\"Entry point for launching an IPython kernel.\n"
     ]
    },
    {
     "data": {
      "text/plain": [
       "RandomForestClassifier(bootstrap=True, class_weight=None, criterion='gini',\n",
       "            max_depth=5, max_features='auto', max_leaf_nodes=None,\n",
       "            min_impurity_decrease=0.0, min_impurity_split=None,\n",
       "            min_samples_leaf=1, min_samples_split=2,\n",
       "            min_weight_fraction_leaf=0.0, n_estimators=10, n_jobs=1,\n",
       "            oob_score=False, random_state=None, verbose=0,\n",
       "            warm_start=False)"
      ]
     },
     "execution_count": 148,
     "metadata": {},
     "output_type": "execute_result"
    }
   ],
   "source": [
    "rf.fit(X, y)"
   ]
  },
  {
   "cell_type": "code",
   "execution_count": 149,
   "metadata": {},
   "outputs": [
    {
     "data": {
      "text/plain": [
       "0.7479365079365079"
      ]
     },
     "execution_count": 149,
     "metadata": {},
     "output_type": "execute_result"
    }
   ],
   "source": [
    "rf.score(X_test, y_test)"
   ]
  },
  {
   "cell_type": "code",
   "execution_count": 150,
   "metadata": {},
   "outputs": [
    {
     "data": {
      "text/plain": [
       "0.780718336483932"
      ]
     },
     "execution_count": 150,
     "metadata": {},
     "output_type": "execute_result"
    }
   ],
   "source": [
    "rf.score(X, y)"
   ]
  },
  {
   "cell_type": "code",
   "execution_count": 151,
   "metadata": {},
   "outputs": [
    {
     "data": {
      "text/plain": [
       "0.7479365079365079"
      ]
     },
     "execution_count": 151,
     "metadata": {},
     "output_type": "execute_result"
    }
   ],
   "source": [
    "accuracy_score(y_test, rf.predict(X_test))"
   ]
  },
  {
   "cell_type": "code",
   "execution_count": 152,
   "metadata": {},
   "outputs": [
    {
     "name": "stdout",
     "output_type": "stream",
     "text": [
      "             precision    recall  f1-score   support\n",
      "\n",
      "        0.0       0.70      0.88      0.78       801\n",
      "        1.0       0.83      0.61      0.70       774\n",
      "\n",
      "avg / total       0.77      0.75      0.74      1575\n",
      "\n"
     ]
    }
   ],
   "source": [
    "print(classification_report(y_test, rf.predict(X_test)))"
   ]
  },
  {
   "cell_type": "code",
   "execution_count": 153,
   "metadata": {},
   "outputs": [
    {
     "name": "stdout",
     "output_type": "stream",
     "text": [
      "AUC: 0.7455651366025027\n"
     ]
    },
    {
     "data": {
      "image/png": "[encoded data removed]",
      "text/plain": [
       "<matplotlib.figure.Figure at 0x7fbb7c02d080>"
      ]
     },
     "metadata": {},
     "output_type": "display_data"
    }
   ],
   "source": [
    "roc(y_test, rf.predict(X_test))"
   ]
  },
  {
   "cell_type": "code",
   "execution_count": null,
   "metadata": {
    "collapsed": true
   },
   "outputs": [],
   "source": []
  },
  {
   "cell_type": "markdown",
   "metadata": {},
   "source": [
    "# xgboost"
   ]
  },
  {
   "cell_type": "code",
   "execution_count": 154,
   "metadata": {
    "collapsed": true
   },
   "outputs": [],
   "source": [
    "import xgboost as xgb"
   ]
  },
  {
   "cell_type": "code",
   "execution_count": 183,
   "metadata": {
    "collapsed": true
   },
   "outputs": [],
   "source": [
    "xgb_model = xgb.XGBClassifier(max_depth = 2)"
   ]
  },
  {
   "cell_type": "code",
   "execution_count": 184,
   "metadata": {},
   "outputs": [
    {
     "name": "stderr",
     "output_type": "stream",
     "text": [
      "/anaconda/envs/py35/lib/python3.5/site-packages/sklearn/preprocessing/label.py:95: DataConversionWarning: A column-vector y was passed when a 1d array was expected. Please change the shape of y to (n_samples, ), for example using ravel().\n",
      "  y = column_or_1d(y, warn=True)\n",
      "/anaconda/envs/py35/lib/python3.5/site-packages/sklearn/preprocessing/label.py:128: DataConversionWarning: A column-vector y was passed when a 1d array was expected. Please change the shape of y to (n_samples, ), for example using ravel().\n",
      "  y = column_or_1d(y, warn=True)\n"
     ]
    },
    {
     "data": {
      "text/plain": [
       "XGBClassifier(base_score=0.5, booster='gbtree', colsample_bylevel=1,\n",
       "       colsample_bytree=1, gamma=0, learning_rate=0.1, max_delta_step=0,\n",
       "       max_depth=2, min_child_weight=1, missing=None, n_estimators=100,\n",
       "       n_jobs=1, nthread=None, objective='binary:logistic', random_state=0,\n",
       "       reg_alpha=0, reg_lambda=1, scale_pos_weight=1, seed=None,\n",
       "       silent=True, subsample=1)"
      ]
     },
     "execution_count": 184,
     "metadata": {},
     "output_type": "execute_result"
    }
   ],
   "source": [
    "xgb_model.fit(X, y)"
   ]
  },
  {
   "cell_type": "code",
   "execution_count": 185,
   "metadata": {},
   "outputs": [
    {
     "name": "stderr",
     "output_type": "stream",
     "text": [
      "/anaconda/envs/py35/lib/python3.5/site-packages/sklearn/preprocessing/label.py:151: DeprecationWarning: The truth value of an empty array is ambiguous. Returning False, but in future this will result in an error. Use `array.size > 0` to check that an array is not empty.\n",
      "  if diff:\n"
     ]
    },
    {
     "data": {
      "text/plain": [
       "0.7536507936507937"
      ]
     },
     "execution_count": 185,
     "metadata": {},
     "output_type": "execute_result"
    }
   ],
   "source": [
    "xgb_model.score(X_test, y_test)"
   ]
  },
  {
   "cell_type": "code",
   "execution_count": 186,
   "metadata": {},
   "outputs": [
    {
     "name": "stderr",
     "output_type": "stream",
     "text": [
      "/anaconda/envs/py35/lib/python3.5/site-packages/sklearn/preprocessing/label.py:151: DeprecationWarning: The truth value of an empty array is ambiguous. Returning False, but in future this will result in an error. Use `array.size > 0` to check that an array is not empty.\n",
      "  if diff:\n"
     ]
    },
    {
     "data": {
      "text/plain": [
       "0.7795368620037807"
      ]
     },
     "execution_count": 186,
     "metadata": {},
     "output_type": "execute_result"
    }
   ],
   "source": [
    "xgb_model.score(X, y)"
   ]
  },
  {
   "cell_type": "code",
   "execution_count": 187,
   "metadata": {},
   "outputs": [
    {
     "name": "stderr",
     "output_type": "stream",
     "text": [
      "/anaconda/envs/py35/lib/python3.5/site-packages/sklearn/preprocessing/label.py:151: DeprecationWarning: The truth value of an empty array is ambiguous. Returning False, but in future this will result in an error. Use `array.size > 0` to check that an array is not empty.\n",
      "  if diff:\n"
     ]
    },
    {
     "data": {
      "text/plain": [
       "0.7536507936507937"
      ]
     },
     "execution_count": 187,
     "metadata": {},
     "output_type": "execute_result"
    }
   ],
   "source": [
    "accuracy_score(y_test, xgb_model.predict(X_test))"
   ]
  },
  {
   "cell_type": "code",
   "execution_count": 188,
   "metadata": {},
   "outputs": [
    {
     "name": "stdout",
     "output_type": "stream",
     "text": [
      "             precision    recall  f1-score   support\n",
      "\n",
      "        0.0       0.71      0.89      0.79       801\n",
      "        1.0       0.84      0.62      0.71       774\n",
      "\n",
      "avg / total       0.77      0.75      0.75      1575\n",
      "\n"
     ]
    },
    {
     "name": "stderr",
     "output_type": "stream",
     "text": [
      "/anaconda/envs/py35/lib/python3.5/site-packages/sklearn/preprocessing/label.py:151: DeprecationWarning: The truth value of an empty array is ambiguous. Returning False, but in future this will result in an error. Use `array.size > 0` to check that an array is not empty.\n",
      "  if diff:\n"
     ]
    }
   ],
   "source": [
    "print(classification_report(y_test, xgb_model.predict(X_test)))"
   ]
  },
  {
   "cell_type": "code",
   "execution_count": 189,
   "metadata": {},
   "outputs": [
    {
     "name": "stdout",
     "output_type": "stream",
     "text": [
      "AUC: 0.7513355398774787\n"
     ]
    },
    {
     "name": "stderr",
     "output_type": "stream",
     "text": [
      "/anaconda/envs/py35/lib/python3.5/site-packages/sklearn/preprocessing/label.py:151: DeprecationWarning: The truth value of an empty array is ambiguous. Returning False, but in future this will result in an error. Use `array.size > 0` to check that an array is not empty.\n",
      "  if diff:\n"
     ]
    },
    {
     "data": {
      "image/png": "[encoded data removed]",
      "text/plain": [
       "<matplotlib.figure.Figure at 0x7fbb76621c50>"
      ]
     },
     "metadata": {},
     "output_type": "display_data"
    }
   ],
   "source": [
    "roc(y_test, xgb_model.predict(X_test))"
   ]
  },
  {
   "cell_type": "code",
   "execution_count": null,
   "metadata": {
    "collapsed": true
   },
   "outputs": [],
   "source": []
  },
  {
   "cell_type": "code",
   "execution_count": null,
   "metadata": {
    "collapsed": true
   },
   "outputs": [],
   "source": []
  }
 ],
 "metadata": {
  "kernelspec": {
   "display_name": "Python 3",
   "language": "python",
   "name": "python3"
  },
  "language_info": {
   "codemirror_mode": {
    "name": "ipython",
    "version": 3
   },
   "file_extension": ".py",
   "mimetype": "text/x-python",
   "name": "python",
   "nbconvert_exporter": "python",
   "pygments_lexer": "ipython3",
   "version": "3.6.3"
  }
 },
 "nbformat": 4,
 "nbformat_minor": 2
}
