{
 "cells": [
  {
   "cell_type": "code",
   "execution_count": 1,
   "metadata": {
    "collapsed": true
   },
   "outputs": [],
   "source": [
    "import pandas as pd"
   ]
  },
  {
   "cell_type": "code",
   "execution_count": 2,
   "metadata": {
    "collapsed": true
   },
   "outputs": [],
   "source": [
    "df = pd.read_csv('features_built1to5.csv')"
   ]
  },
  {
   "cell_type": "code",
   "execution_count": 3,
   "metadata": {
    "scrolled": false
   },
   "outputs": [
    {
     "data": {
      "text/html": [
       "<div>\n",
       "<style scoped>\n",
       "    .dataframe tbody tr th:only-of-type {\n",
       "        vertical-align: middle;\n",
       "    }\n",
       "\n",
       "    .dataframe tbody tr th {\n",
       "        vertical-align: top;\n",
       "    }\n",
       "\n",
       "    .dataframe thead th {\n",
       "        text-align: right;\n",
       "    }\n",
       "</style>\n",
       "<table border=\"1\" class=\"dataframe\">\n",
       "  <thead>\n",
       "    <tr style=\"text-align: right;\">\n",
       "      <th></th>\n",
       "      <th>Unnamed: 0</th>\n",
       "      <th>question_cleaned</th>\n",
       "      <th>answer_cleaned</th>\n",
       "      <th>score</th>\n",
       "      <th>cos_sim</th>\n",
       "      <th>kl_lm</th>\n",
       "      <th>kl_bilm</th>\n",
       "      <th>Question</th>\n",
       "      <th>Answer</th>\n",
       "      <th>score.1</th>\n",
       "      <th>tf_cos</th>\n",
       "      <th>bitf_cos</th>\n",
       "    </tr>\n",
       "  </thead>\n",
       "  <tbody>\n",
       "    <tr>\n",
       "      <th>0</th>\n",
       "      <td>0</td>\n",
       "      <td>['please', 'describe', 'size', 'organization',...</td>\n",
       "      <td>['clifford', 'chance', 'employ', 'people', 'gl...</td>\n",
       "      <td>1.0</td>\n",
       "      <td>0.715591</td>\n",
       "      <td>5.285982</td>\n",
       "      <td>64.202174</td>\n",
       "      <td>1) Please describe \\n- the size of the organiz...</td>\n",
       "      <td>Clifford Chance employs 6000 people globally, ...</td>\n",
       "      <td>1.0</td>\n",
       "      <td>0.491709</td>\n",
       "      <td>0.376328</td>\n",
       "    </tr>\n",
       "    <tr>\n",
       "      <th>1</th>\n",
       "      <td>1</td>\n",
       "      <td>['please', 'provide', 'clear', 'explanation', ...</td>\n",
       "      <td>['clifford', 'chance', 'professional', 'legal'...</td>\n",
       "      <td>1.0</td>\n",
       "      <td>0.459863</td>\n",
       "      <td>10.015840</td>\n",
       "      <td>65.480876</td>\n",
       "      <td>2) Please provide a clear explanation of what ...</td>\n",
       "      <td>Clifford Chance is a professional legal servic...</td>\n",
       "      <td>1.0</td>\n",
       "      <td>0.147223</td>\n",
       "      <td>0.139598</td>\n",
       "    </tr>\n",
       "    <tr>\n",
       "      <th>2</th>\n",
       "      <td>2</td>\n",
       "      <td>['office', 'upper', 'bank', 'street', 'london'...</td>\n",
       "      <td>['citi', 'data', 'handle', 'aforementioned', '...</td>\n",
       "      <td>1.0</td>\n",
       "      <td>0.751566</td>\n",
       "      <td>10.666567</td>\n",
       "      <td>161.406301</td>\n",
       "      <td>3) Are this office at 10 UPPER BANK STREET, LO...</td>\n",
       "      <td>Citi data is only handled at the aforementione...</td>\n",
       "      <td>1.0</td>\n",
       "      <td>0.127483</td>\n",
       "      <td>0.106643</td>\n",
       "    </tr>\n",
       "    <tr>\n",
       "      <th>3</th>\n",
       "      <td>3</td>\n",
       "      <td>['specify', 'quantity', 'describe', 'number', ...</td>\n",
       "      <td>['record', 'quantity', 'determine', 'relations...</td>\n",
       "      <td>1.0</td>\n",
       "      <td>0.286056</td>\n",
       "      <td>10.341471</td>\n",
       "      <td>99.324364</td>\n",
       "      <td>\\n4) Specify quantities that will describe the...</td>\n",
       "      <td>Record quantity is determined by the relations...</td>\n",
       "      <td>1.0</td>\n",
       "      <td>0.024542</td>\n",
       "      <td>0.008471</td>\n",
       "    </tr>\n",
       "    <tr>\n",
       "      <th>4</th>\n",
       "      <td>4</td>\n",
       "      <td>['one', 'sub', 'contractor', 'use', 'provide',...</td>\n",
       "      <td>['sub', 'contractor', 'use', 'conjunction', 's...</td>\n",
       "      <td>1.0</td>\n",
       "      <td>0.861110</td>\n",
       "      <td>7.693669</td>\n",
       "      <td>52.343010</td>\n",
       "      <td>5) If one or more sub-contractors are used in ...</td>\n",
       "      <td>Sub-contractors are not used in conjunction wi...</td>\n",
       "      <td>1.0</td>\n",
       "      <td>0.395613</td>\n",
       "      <td>0.377713</td>\n",
       "    </tr>\n",
       "  </tbody>\n",
       "</table>\n",
       "</div>"
      ],
      "text/plain": [
       "   Unnamed: 0                                   question_cleaned  \\\n",
       "0           0  ['please', 'describe', 'size', 'organization',...   \n",
       "1           1  ['please', 'provide', 'clear', 'explanation', ...   \n",
       "2           2  ['office', 'upper', 'bank', 'street', 'london'...   \n",
       "3           3  ['specify', 'quantity', 'describe', 'number', ...   \n",
       "4           4  ['one', 'sub', 'contractor', 'use', 'provide',...   \n",
       "\n",
       "                                      answer_cleaned  score   cos_sim  \\\n",
       "0  ['clifford', 'chance', 'employ', 'people', 'gl...    1.0  0.715591   \n",
       "1  ['clifford', 'chance', 'professional', 'legal'...    1.0  0.459863   \n",
       "2  ['citi', 'data', 'handle', 'aforementioned', '...    1.0  0.751566   \n",
       "3  ['record', 'quantity', 'determine', 'relations...    1.0  0.286056   \n",
       "4  ['sub', 'contractor', 'use', 'conjunction', 's...    1.0  0.861110   \n",
       "\n",
       "       kl_lm     kl_bilm                                           Question  \\\n",
       "0   5.285982   64.202174  1) Please describe \\n- the size of the organiz...   \n",
       "1  10.015840   65.480876  2) Please provide a clear explanation of what ...   \n",
       "2  10.666567  161.406301  3) Are this office at 10 UPPER BANK STREET, LO...   \n",
       "3  10.341471   99.324364  \\n4) Specify quantities that will describe the...   \n",
       "4   7.693669   52.343010  5) If one or more sub-contractors are used in ...   \n",
       "\n",
       "                                              Answer  score.1    tf_cos  \\\n",
       "0  Clifford Chance employs 6000 people globally, ...      1.0  0.491709   \n",
       "1  Clifford Chance is a professional legal servic...      1.0  0.147223   \n",
       "2  Citi data is only handled at the aforementione...      1.0  0.127483   \n",
       "3  Record quantity is determined by the relations...      1.0  0.024542   \n",
       "4  Sub-contractors are not used in conjunction wi...      1.0  0.395613   \n",
       "\n",
       "   bitf_cos  \n",
       "0  0.376328  \n",
       "1  0.139598  \n",
       "2  0.106643  \n",
       "3  0.008471  \n",
       "4  0.377713  "
      ]
     },
     "execution_count": 3,
     "metadata": {},
     "output_type": "execute_result"
    }
   ],
   "source": [
    "df.head()"
   ]
  },
  {
   "cell_type": "code",
   "execution_count": 4,
   "metadata": {
    "collapsed": true
   },
   "outputs": [],
   "source": [
    "from sklearn.utils import resample"
   ]
  },
  {
   "cell_type": "code",
   "execution_count": 5,
   "metadata": {
    "collapsed": true
   },
   "outputs": [],
   "source": [
    "train = resample(df, random_state = 0)"
   ]
  },
  {
   "cell_type": "code",
   "execution_count": 6,
   "metadata": {},
   "outputs": [
    {
     "data": {
      "text/html": [
       "<div>\n",
       "<style scoped>\n",
       "    .dataframe tbody tr th:only-of-type {\n",
       "        vertical-align: middle;\n",
       "    }\n",
       "\n",
       "    .dataframe tbody tr th {\n",
       "        vertical-align: top;\n",
       "    }\n",
       "\n",
       "    .dataframe thead th {\n",
       "        text-align: right;\n",
       "    }\n",
       "</style>\n",
       "<table border=\"1\" class=\"dataframe\">\n",
       "  <thead>\n",
       "    <tr style=\"text-align: right;\">\n",
       "      <th></th>\n",
       "      <th>Unnamed: 0</th>\n",
       "      <th>score</th>\n",
       "      <th>cos_sim</th>\n",
       "      <th>kl_lm</th>\n",
       "      <th>kl_bilm</th>\n",
       "      <th>score.1</th>\n",
       "      <th>tf_cos</th>\n",
       "      <th>bitf_cos</th>\n",
       "    </tr>\n",
       "  </thead>\n",
       "  <tbody>\n",
       "    <tr>\n",
       "      <th>count</th>\n",
       "      <td>12696.000000</td>\n",
       "      <td>12696.000000</td>\n",
       "      <td>12696.000000</td>\n",
       "      <td>12696.000000</td>\n",
       "      <td>12696.000000</td>\n",
       "      <td>12696.000000</td>\n",
       "      <td>12696.000000</td>\n",
       "      <td>12696.000000</td>\n",
       "    </tr>\n",
       "    <tr>\n",
       "      <th>mean</th>\n",
       "      <td>6333.868541</td>\n",
       "      <td>0.165249</td>\n",
       "      <td>0.289257</td>\n",
       "      <td>13.375081</td>\n",
       "      <td>121.111272</td>\n",
       "      <td>0.165249</td>\n",
       "      <td>0.042227</td>\n",
       "      <td>0.033651</td>\n",
       "    </tr>\n",
       "    <tr>\n",
       "      <th>std</th>\n",
       "      <td>3658.512725</td>\n",
       "      <td>0.371420</td>\n",
       "      <td>0.212722</td>\n",
       "      <td>4.047648</td>\n",
       "      <td>95.025350</td>\n",
       "      <td>0.371420</td>\n",
       "      <td>0.077502</td>\n",
       "      <td>0.067506</td>\n",
       "    </tr>\n",
       "    <tr>\n",
       "      <th>min</th>\n",
       "      <td>0.000000</td>\n",
       "      <td>0.000000</td>\n",
       "      <td>-0.285968</td>\n",
       "      <td>0.077164</td>\n",
       "      <td>0.103792</td>\n",
       "      <td>0.000000</td>\n",
       "      <td>0.000000</td>\n",
       "      <td>0.000000</td>\n",
       "    </tr>\n",
       "    <tr>\n",
       "      <th>25%</th>\n",
       "      <td>3186.750000</td>\n",
       "      <td>0.000000</td>\n",
       "      <td>0.139838</td>\n",
       "      <td>11.417615</td>\n",
       "      <td>61.788162</td>\n",
       "      <td>0.000000</td>\n",
       "      <td>0.000000</td>\n",
       "      <td>0.000000</td>\n",
       "    </tr>\n",
       "    <tr>\n",
       "      <th>50%</th>\n",
       "      <td>6293.500000</td>\n",
       "      <td>0.000000</td>\n",
       "      <td>0.270373</td>\n",
       "      <td>12.429216</td>\n",
       "      <td>94.307417</td>\n",
       "      <td>0.000000</td>\n",
       "      <td>0.017556</td>\n",
       "      <td>0.012414</td>\n",
       "    </tr>\n",
       "    <tr>\n",
       "      <th>75%</th>\n",
       "      <td>9553.000000</td>\n",
       "      <td>0.000000</td>\n",
       "      <td>0.423470</td>\n",
       "      <td>14.765810</td>\n",
       "      <td>147.833160</td>\n",
       "      <td>0.000000</td>\n",
       "      <td>0.049140</td>\n",
       "      <td>0.037297</td>\n",
       "    </tr>\n",
       "    <tr>\n",
       "      <th>max</th>\n",
       "      <td>12695.000000</td>\n",
       "      <td>1.000000</td>\n",
       "      <td>1.000000</td>\n",
       "      <td>59.793383</td>\n",
       "      <td>1211.408114</td>\n",
       "      <td>1.000000</td>\n",
       "      <td>0.958163</td>\n",
       "      <td>0.961814</td>\n",
       "    </tr>\n",
       "  </tbody>\n",
       "</table>\n",
       "</div>"
      ],
      "text/plain": [
       "         Unnamed: 0         score       cos_sim         kl_lm       kl_bilm  \\\n",
       "count  12696.000000  12696.000000  12696.000000  12696.000000  12696.000000   \n",
       "mean    6333.868541      0.165249      0.289257     13.375081    121.111272   \n",
       "std     3658.512725      0.371420      0.212722      4.047648     95.025350   \n",
       "min        0.000000      0.000000     -0.285968      0.077164      0.103792   \n",
       "25%     3186.750000      0.000000      0.139838     11.417615     61.788162   \n",
       "50%     6293.500000      0.000000      0.270373     12.429216     94.307417   \n",
       "75%     9553.000000      0.000000      0.423470     14.765810    147.833160   \n",
       "max    12695.000000      1.000000      1.000000     59.793383   1211.408114   \n",
       "\n",
       "            score.1        tf_cos      bitf_cos  \n",
       "count  12696.000000  12696.000000  12696.000000  \n",
       "mean       0.165249      0.042227      0.033651  \n",
       "std        0.371420      0.077502      0.067506  \n",
       "min        0.000000      0.000000      0.000000  \n",
       "25%        0.000000      0.000000      0.000000  \n",
       "50%        0.000000      0.017556      0.012414  \n",
       "75%        0.000000      0.049140      0.037297  \n",
       "max        1.000000      0.958163      0.961814  "
      ]
     },
     "execution_count": 6,
     "metadata": {},
     "output_type": "execute_result"
    }
   ],
   "source": [
    "train.describe()"
   ]
  },
  {
   "cell_type": "code",
   "execution_count": 7,
   "metadata": {},
   "outputs": [
    {
     "data": {
      "text/html": [
       "<div>\n",
       "<style scoped>\n",
       "    .dataframe tbody tr th:only-of-type {\n",
       "        vertical-align: middle;\n",
       "    }\n",
       "\n",
       "    .dataframe tbody tr th {\n",
       "        vertical-align: top;\n",
       "    }\n",
       "\n",
       "    .dataframe thead th {\n",
       "        text-align: right;\n",
       "    }\n",
       "</style>\n",
       "<table border=\"1\" class=\"dataframe\">\n",
       "  <thead>\n",
       "    <tr style=\"text-align: right;\">\n",
       "      <th></th>\n",
       "      <th>Unnamed: 0</th>\n",
       "      <th>score</th>\n",
       "      <th>cos_sim</th>\n",
       "      <th>kl_lm</th>\n",
       "      <th>kl_bilm</th>\n",
       "      <th>score.1</th>\n",
       "      <th>tf_cos</th>\n",
       "      <th>bitf_cos</th>\n",
       "    </tr>\n",
       "  </thead>\n",
       "  <tbody>\n",
       "    <tr>\n",
       "      <th>count</th>\n",
       "      <td>12696.000000</td>\n",
       "      <td>12696.000000</td>\n",
       "      <td>12696.000000</td>\n",
       "      <td>12696.000000</td>\n",
       "      <td>12696.000000</td>\n",
       "      <td>12696.000000</td>\n",
       "      <td>12696.000000</td>\n",
       "      <td>12696.000000</td>\n",
       "    </tr>\n",
       "    <tr>\n",
       "      <th>mean</th>\n",
       "      <td>6347.500000</td>\n",
       "      <td>0.166667</td>\n",
       "      <td>0.289318</td>\n",
       "      <td>13.329401</td>\n",
       "      <td>121.687442</td>\n",
       "      <td>0.166667</td>\n",
       "      <td>0.042060</td>\n",
       "      <td>0.033615</td>\n",
       "    </tr>\n",
       "    <tr>\n",
       "      <th>std</th>\n",
       "      <td>3665.163844</td>\n",
       "      <td>0.372693</td>\n",
       "      <td>0.210607</td>\n",
       "      <td>4.010796</td>\n",
       "      <td>96.115628</td>\n",
       "      <td>0.372693</td>\n",
       "      <td>0.077248</td>\n",
       "      <td>0.067873</td>\n",
       "    </tr>\n",
       "    <tr>\n",
       "      <th>min</th>\n",
       "      <td>0.000000</td>\n",
       "      <td>0.000000</td>\n",
       "      <td>-0.293925</td>\n",
       "      <td>-0.026829</td>\n",
       "      <td>-0.173549</td>\n",
       "      <td>0.000000</td>\n",
       "      <td>0.000000</td>\n",
       "      <td>0.000000</td>\n",
       "    </tr>\n",
       "    <tr>\n",
       "      <th>25%</th>\n",
       "      <td>3173.750000</td>\n",
       "      <td>0.000000</td>\n",
       "      <td>0.140765</td>\n",
       "      <td>11.417615</td>\n",
       "      <td>61.788162</td>\n",
       "      <td>0.000000</td>\n",
       "      <td>0.000000</td>\n",
       "      <td>0.000000</td>\n",
       "    </tr>\n",
       "    <tr>\n",
       "      <th>50%</th>\n",
       "      <td>6347.500000</td>\n",
       "      <td>0.000000</td>\n",
       "      <td>0.270259</td>\n",
       "      <td>12.429216</td>\n",
       "      <td>98.550944</td>\n",
       "      <td>0.000000</td>\n",
       "      <td>0.017534</td>\n",
       "      <td>0.012491</td>\n",
       "    </tr>\n",
       "    <tr>\n",
       "      <th>75%</th>\n",
       "      <td>9521.250000</td>\n",
       "      <td>0.000000</td>\n",
       "      <td>0.424296</td>\n",
       "      <td>14.710780</td>\n",
       "      <td>150.112061</td>\n",
       "      <td>0.000000</td>\n",
       "      <td>0.050011</td>\n",
       "      <td>0.037907</td>\n",
       "    </tr>\n",
       "    <tr>\n",
       "      <th>max</th>\n",
       "      <td>12695.000000</td>\n",
       "      <td>1.000000</td>\n",
       "      <td>1.000000</td>\n",
       "      <td>59.793383</td>\n",
       "      <td>1211.408114</td>\n",
       "      <td>1.000000</td>\n",
       "      <td>1.000000</td>\n",
       "      <td>1.000000</td>\n",
       "    </tr>\n",
       "  </tbody>\n",
       "</table>\n",
       "</div>"
      ],
      "text/plain": [
       "         Unnamed: 0         score       cos_sim         kl_lm       kl_bilm  \\\n",
       "count  12696.000000  12696.000000  12696.000000  12696.000000  12696.000000   \n",
       "mean    6347.500000      0.166667      0.289318     13.329401    121.687442   \n",
       "std     3665.163844      0.372693      0.210607      4.010796     96.115628   \n",
       "min        0.000000      0.000000     -0.293925     -0.026829     -0.173549   \n",
       "25%     3173.750000      0.000000      0.140765     11.417615     61.788162   \n",
       "50%     6347.500000      0.000000      0.270259     12.429216     98.550944   \n",
       "75%     9521.250000      0.000000      0.424296     14.710780    150.112061   \n",
       "max    12695.000000      1.000000      1.000000     59.793383   1211.408114   \n",
       "\n",
       "            score.1        tf_cos      bitf_cos  \n",
       "count  12696.000000  12696.000000  12696.000000  \n",
       "mean       0.166667      0.042060      0.033615  \n",
       "std        0.372693      0.077248      0.067873  \n",
       "min        0.000000      0.000000      0.000000  \n",
       "25%        0.000000      0.000000      0.000000  \n",
       "50%        0.000000      0.017534      0.012491  \n",
       "75%        0.000000      0.050011      0.037907  \n",
       "max        1.000000      1.000000      1.000000  "
      ]
     },
     "execution_count": 7,
     "metadata": {},
     "output_type": "execute_result"
    }
   ],
   "source": [
    "df.describe()"
   ]
  },
  {
   "cell_type": "code",
   "execution_count": 8,
   "metadata": {
    "collapsed": true
   },
   "outputs": [],
   "source": [
    "test = df.copy()"
   ]
  },
  {
   "cell_type": "code",
   "execution_count": 9,
   "metadata": {
    "collapsed": true
   },
   "outputs": [],
   "source": [
    "test = test.append(train).drop_duplicates(keep=False)"
   ]
  },
  {
   "cell_type": "code",
   "execution_count": 10,
   "metadata": {},
   "outputs": [
    {
     "data": {
      "text/html": [
       "<div>\n",
       "<style scoped>\n",
       "    .dataframe tbody tr th:only-of-type {\n",
       "        vertical-align: middle;\n",
       "    }\n",
       "\n",
       "    .dataframe tbody tr th {\n",
       "        vertical-align: top;\n",
       "    }\n",
       "\n",
       "    .dataframe thead th {\n",
       "        text-align: right;\n",
       "    }\n",
       "</style>\n",
       "<table border=\"1\" class=\"dataframe\">\n",
       "  <thead>\n",
       "    <tr style=\"text-align: right;\">\n",
       "      <th></th>\n",
       "      <th>Unnamed: 0</th>\n",
       "      <th>question_cleaned</th>\n",
       "      <th>answer_cleaned</th>\n",
       "      <th>score</th>\n",
       "      <th>cos_sim</th>\n",
       "      <th>kl_lm</th>\n",
       "      <th>kl_bilm</th>\n",
       "      <th>Question</th>\n",
       "      <th>Answer</th>\n",
       "      <th>score.1</th>\n",
       "      <th>tf_cos</th>\n",
       "      <th>bitf_cos</th>\n",
       "    </tr>\n",
       "  </thead>\n",
       "  <tbody>\n",
       "    <tr>\n",
       "      <th>5</th>\n",
       "      <td>5</td>\n",
       "      <td>['describe', 'flow', 'data', 'time', 'leaf', '...</td>\n",
       "      <td>['applicable']</td>\n",
       "      <td>1.0</td>\n",
       "      <td>0.463272</td>\n",
       "      <td>14.394304</td>\n",
       "      <td>98.652599</td>\n",
       "      <td>1) Describe the flow of data from the time it ...</td>\n",
       "      <td>not applicable</td>\n",
       "      <td>1.0</td>\n",
       "      <td>0.000000</td>\n",
       "      <td>0.000000</td>\n",
       "    </tr>\n",
       "    <tr>\n",
       "      <th>7</th>\n",
       "      <td>7</td>\n",
       "      <td>['b', 'data', 'process', 'describe', 'process'...</td>\n",
       "      <td>['b', 'data', 'process', 'line', 'contract', '...</td>\n",
       "      <td>1.0</td>\n",
       "      <td>0.338625</td>\n",
       "      <td>6.713709</td>\n",
       "      <td>22.141579</td>\n",
       "      <td>b) If data is processed, describe the process ...</td>\n",
       "      <td>b.) Data is processed in line with contract sc...</td>\n",
       "      <td>1.0</td>\n",
       "      <td>0.200405</td>\n",
       "      <td>0.203004</td>\n",
       "    </tr>\n",
       "    <tr>\n",
       "      <th>8</th>\n",
       "      <td>8</td>\n",
       "      <td>['c', 'data', 'store', 'describe', 'store', 't...</td>\n",
       "      <td>['c', 'data', 'store', 'secure', 'server', 'wi...</td>\n",
       "      <td>1.0</td>\n",
       "      <td>0.562411</td>\n",
       "      <td>8.477222</td>\n",
       "      <td>26.565757</td>\n",
       "      <td>c) If data is stored, describe how it is store...</td>\n",
       "      <td>c.) Data is stored on secure servers within a ...</td>\n",
       "      <td>1.0</td>\n",
       "      <td>0.176626</td>\n",
       "      <td>0.088035</td>\n",
       "    </tr>\n",
       "    <tr>\n",
       "      <th>9</th>\n",
       "      <td>9</td>\n",
       "      <td>['describe', 'data', 'disposal', 'process']</td>\n",
       "      <td>['asset', 'information', 'disposal', 'cover', ...</td>\n",
       "      <td>1.0</td>\n",
       "      <td>0.630940</td>\n",
       "      <td>5.080876</td>\n",
       "      <td>13.646755</td>\n",
       "      <td>d) Describe the data disposal process.</td>\n",
       "      <td>d.) Asset and Information Disposal is covered ...</td>\n",
       "      <td>1.0</td>\n",
       "      <td>0.411475</td>\n",
       "      <td>0.293605</td>\n",
       "    </tr>\n",
       "    <tr>\n",
       "      <th>12</th>\n",
       "      <td>12</td>\n",
       "      <td>['receive', 'citi', 'data', 'electronic', 'tra...</td>\n",
       "      <td>['email', 'recieved', 'citi', 'via', 'email', ...</td>\n",
       "      <td>1.0</td>\n",
       "      <td>0.357917</td>\n",
       "      <td>10.262056</td>\n",
       "      <td>79.163183</td>\n",
       "      <td>3) Do you receive Citi data on Electronic Tran...</td>\n",
       "      <td>3.) Email is recieved from Citi via email tran...</td>\n",
       "      <td>1.0</td>\n",
       "      <td>0.077357</td>\n",
       "      <td>0.087496</td>\n",
       "    </tr>\n",
       "  </tbody>\n",
       "</table>\n",
       "</div>"
      ],
      "text/plain": [
       "    Unnamed: 0                                   question_cleaned  \\\n",
       "5            5  ['describe', 'flow', 'data', 'time', 'leaf', '...   \n",
       "7            7  ['b', 'data', 'process', 'describe', 'process'...   \n",
       "8            8  ['c', 'data', 'store', 'describe', 'store', 't...   \n",
       "9            9        ['describe', 'data', 'disposal', 'process']   \n",
       "12          12  ['receive', 'citi', 'data', 'electronic', 'tra...   \n",
       "\n",
       "                                       answer_cleaned  score   cos_sim  \\\n",
       "5                                      ['applicable']    1.0  0.463272   \n",
       "7   ['b', 'data', 'process', 'line', 'contract', '...    1.0  0.338625   \n",
       "8   ['c', 'data', 'store', 'secure', 'server', 'wi...    1.0  0.562411   \n",
       "9   ['asset', 'information', 'disposal', 'cover', ...    1.0  0.630940   \n",
       "12  ['email', 'recieved', 'citi', 'via', 'email', ...    1.0  0.357917   \n",
       "\n",
       "        kl_lm    kl_bilm                                           Question  \\\n",
       "5   14.394304  98.652599  1) Describe the flow of data from the time it ...   \n",
       "7    6.713709  22.141579  b) If data is processed, describe the process ...   \n",
       "8    8.477222  26.565757  c) If data is stored, describe how it is store...   \n",
       "9    5.080876  13.646755             d) Describe the data disposal process.   \n",
       "12  10.262056  79.163183  3) Do you receive Citi data on Electronic Tran...   \n",
       "\n",
       "                                               Answer  score.1    tf_cos  \\\n",
       "5                                      not applicable      1.0  0.000000   \n",
       "7   b.) Data is processed in line with contract sc...      1.0  0.200405   \n",
       "8   c.) Data is stored on secure servers within a ...      1.0  0.176626   \n",
       "9   d.) Asset and Information Disposal is covered ...      1.0  0.411475   \n",
       "12  3.) Email is recieved from Citi via email tran...      1.0  0.077357   \n",
       "\n",
       "    bitf_cos  \n",
       "5   0.000000  \n",
       "7   0.203004  \n",
       "8   0.088035  \n",
       "9   0.293605  \n",
       "12  0.087496  "
      ]
     },
     "execution_count": 10,
     "metadata": {},
     "output_type": "execute_result"
    }
   ],
   "source": [
    "test.head()"
   ]
  },
  {
   "cell_type": "code",
   "execution_count": 11,
   "metadata": {},
   "outputs": [
    {
     "data": {
      "text/html": [
       "<div>\n",
       "<style scoped>\n",
       "    .dataframe tbody tr th:only-of-type {\n",
       "        vertical-align: middle;\n",
       "    }\n",
       "\n",
       "    .dataframe tbody tr th {\n",
       "        vertical-align: top;\n",
       "    }\n",
       "\n",
       "    .dataframe thead th {\n",
       "        text-align: right;\n",
       "    }\n",
       "</style>\n",
       "<table border=\"1\" class=\"dataframe\">\n",
       "  <thead>\n",
       "    <tr style=\"text-align: right;\">\n",
       "      <th></th>\n",
       "      <th>Unnamed: 0</th>\n",
       "      <th>score</th>\n",
       "      <th>cos_sim</th>\n",
       "      <th>kl_lm</th>\n",
       "      <th>kl_bilm</th>\n",
       "      <th>score.1</th>\n",
       "      <th>tf_cos</th>\n",
       "      <th>bitf_cos</th>\n",
       "    </tr>\n",
       "  </thead>\n",
       "  <tbody>\n",
       "    <tr>\n",
       "      <th>count</th>\n",
       "      <td>4657.000000</td>\n",
       "      <td>4657.000000</td>\n",
       "      <td>4657.000000</td>\n",
       "      <td>4657.000000</td>\n",
       "      <td>4657.000000</td>\n",
       "      <td>4657.000000</td>\n",
       "      <td>4657.000000</td>\n",
       "      <td>4657.000000</td>\n",
       "    </tr>\n",
       "    <tr>\n",
       "      <th>mean</th>\n",
       "      <td>6423.112948</td>\n",
       "      <td>0.162980</td>\n",
       "      <td>0.288196</td>\n",
       "      <td>13.290276</td>\n",
       "      <td>122.577261</td>\n",
       "      <td>0.162980</td>\n",
       "      <td>0.041243</td>\n",
       "      <td>0.032810</td>\n",
       "    </tr>\n",
       "    <tr>\n",
       "      <th>std</th>\n",
       "      <td>3654.866798</td>\n",
       "      <td>0.369388</td>\n",
       "      <td>0.207569</td>\n",
       "      <td>3.978644</td>\n",
       "      <td>97.644366</td>\n",
       "      <td>0.369388</td>\n",
       "      <td>0.074161</td>\n",
       "      <td>0.065009</td>\n",
       "    </tr>\n",
       "    <tr>\n",
       "      <th>min</th>\n",
       "      <td>5.000000</td>\n",
       "      <td>0.000000</td>\n",
       "      <td>-0.293925</td>\n",
       "      <td>-0.026829</td>\n",
       "      <td>-0.173549</td>\n",
       "      <td>0.000000</td>\n",
       "      <td>0.000000</td>\n",
       "      <td>0.000000</td>\n",
       "    </tr>\n",
       "    <tr>\n",
       "      <th>25%</th>\n",
       "      <td>3254.000000</td>\n",
       "      <td>0.000000</td>\n",
       "      <td>0.142432</td>\n",
       "      <td>11.394431</td>\n",
       "      <td>61.788162</td>\n",
       "      <td>0.000000</td>\n",
       "      <td>0.000000</td>\n",
       "      <td>0.000000</td>\n",
       "    </tr>\n",
       "    <tr>\n",
       "      <th>50%</th>\n",
       "      <td>6530.000000</td>\n",
       "      <td>0.000000</td>\n",
       "      <td>0.266718</td>\n",
       "      <td>12.429216</td>\n",
       "      <td>99.132685</td>\n",
       "      <td>0.000000</td>\n",
       "      <td>0.017945</td>\n",
       "      <td>0.012950</td>\n",
       "    </tr>\n",
       "    <tr>\n",
       "      <th>75%</th>\n",
       "      <td>9526.000000</td>\n",
       "      <td>0.000000</td>\n",
       "      <td>0.424327</td>\n",
       "      <td>14.620059</td>\n",
       "      <td>150.606675</td>\n",
       "      <td>0.000000</td>\n",
       "      <td>0.051132</td>\n",
       "      <td>0.038636</td>\n",
       "    </tr>\n",
       "    <tr>\n",
       "      <th>max</th>\n",
       "      <td>12692.000000</td>\n",
       "      <td>1.000000</td>\n",
       "      <td>0.993392</td>\n",
       "      <td>59.066613</td>\n",
       "      <td>1211.408114</td>\n",
       "      <td>1.000000</td>\n",
       "      <td>1.000000</td>\n",
       "      <td>1.000000</td>\n",
       "    </tr>\n",
       "  </tbody>\n",
       "</table>\n",
       "</div>"
      ],
      "text/plain": [
       "         Unnamed: 0        score      cos_sim        kl_lm      kl_bilm  \\\n",
       "count   4657.000000  4657.000000  4657.000000  4657.000000  4657.000000   \n",
       "mean    6423.112948     0.162980     0.288196    13.290276   122.577261   \n",
       "std     3654.866798     0.369388     0.207569     3.978644    97.644366   \n",
       "min        5.000000     0.000000    -0.293925    -0.026829    -0.173549   \n",
       "25%     3254.000000     0.000000     0.142432    11.394431    61.788162   \n",
       "50%     6530.000000     0.000000     0.266718    12.429216    99.132685   \n",
       "75%     9526.000000     0.000000     0.424327    14.620059   150.606675   \n",
       "max    12692.000000     1.000000     0.993392    59.066613  1211.408114   \n",
       "\n",
       "           score.1       tf_cos     bitf_cos  \n",
       "count  4657.000000  4657.000000  4657.000000  \n",
       "mean      0.162980     0.041243     0.032810  \n",
       "std       0.369388     0.074161     0.065009  \n",
       "min       0.000000     0.000000     0.000000  \n",
       "25%       0.000000     0.000000     0.000000  \n",
       "50%       0.000000     0.017945     0.012950  \n",
       "75%       0.000000     0.051132     0.038636  \n",
       "max       1.000000     1.000000     1.000000  "
      ]
     },
     "execution_count": 11,
     "metadata": {},
     "output_type": "execute_result"
    }
   ],
   "source": [
    "test.describe()"
   ]
  },
  {
   "cell_type": "code",
   "execution_count": 12,
   "metadata": {
    "collapsed": true
   },
   "outputs": [],
   "source": [
    "from sklearn.linear_model import LinearRegression"
   ]
  },
  {
   "cell_type": "code",
   "execution_count": 13,
   "metadata": {
    "collapsed": true
   },
   "outputs": [],
   "source": [
    "lr = LinearRegression()"
   ]
  },
  {
   "cell_type": "code",
   "execution_count": 14,
   "metadata": {
    "collapsed": true
   },
   "outputs": [],
   "source": [
    "X = train[['cos_sim', 'kl_lm', 'kl_bilm', 'tf_cos', 'bitf_cos']]"
   ]
  },
  {
   "cell_type": "code",
   "execution_count": 15,
   "metadata": {},
   "outputs": [
    {
     "data": {
      "text/html": [
       "<div>\n",
       "<style scoped>\n",
       "    .dataframe tbody tr th:only-of-type {\n",
       "        vertical-align: middle;\n",
       "    }\n",
       "\n",
       "    .dataframe tbody tr th {\n",
       "        vertical-align: top;\n",
       "    }\n",
       "\n",
       "    .dataframe thead th {\n",
       "        text-align: right;\n",
       "    }\n",
       "</style>\n",
       "<table border=\"1\" class=\"dataframe\">\n",
       "  <thead>\n",
       "    <tr style=\"text-align: right;\">\n",
       "      <th></th>\n",
       "      <th>cos_sim</th>\n",
       "      <th>kl_lm</th>\n",
       "      <th>kl_bilm</th>\n",
       "      <th>tf_cos</th>\n",
       "      <th>bitf_cos</th>\n",
       "    </tr>\n",
       "  </thead>\n",
       "  <tbody>\n",
       "    <tr>\n",
       "      <th>2732</th>\n",
       "      <td>0.230451</td>\n",
       "      <td>33.116484</td>\n",
       "      <td>172.498051</td>\n",
       "      <td>0.000000</td>\n",
       "      <td>0.000000</td>\n",
       "    </tr>\n",
       "    <tr>\n",
       "      <th>10799</th>\n",
       "      <td>0.096763</td>\n",
       "      <td>13.122363</td>\n",
       "      <td>16.533429</td>\n",
       "      <td>0.000000</td>\n",
       "      <td>0.000000</td>\n",
       "    </tr>\n",
       "    <tr>\n",
       "      <th>9845</th>\n",
       "      <td>0.590075</td>\n",
       "      <td>19.849475</td>\n",
       "      <td>68.560554</td>\n",
       "      <td>0.028559</td>\n",
       "      <td>0.026861</td>\n",
       "    </tr>\n",
       "    <tr>\n",
       "      <th>3264</th>\n",
       "      <td>0.439546</td>\n",
       "      <td>13.808459</td>\n",
       "      <td>315.698533</td>\n",
       "      <td>0.080506</td>\n",
       "      <td>0.053498</td>\n",
       "    </tr>\n",
       "    <tr>\n",
       "      <th>4859</th>\n",
       "      <td>0.229937</td>\n",
       "      <td>12.429216</td>\n",
       "      <td>34.168292</td>\n",
       "      <td>0.000000</td>\n",
       "      <td>0.000000</td>\n",
       "    </tr>\n",
       "  </tbody>\n",
       "</table>\n",
       "</div>"
      ],
      "text/plain": [
       "        cos_sim      kl_lm     kl_bilm    tf_cos  bitf_cos\n",
       "2732   0.230451  33.116484  172.498051  0.000000  0.000000\n",
       "10799  0.096763  13.122363   16.533429  0.000000  0.000000\n",
       "9845   0.590075  19.849475   68.560554  0.028559  0.026861\n",
       "3264   0.439546  13.808459  315.698533  0.080506  0.053498\n",
       "4859   0.229937  12.429216   34.168292  0.000000  0.000000"
      ]
     },
     "execution_count": 15,
     "metadata": {},
     "output_type": "execute_result"
    }
   ],
   "source": [
    "X.head()"
   ]
  },
  {
   "cell_type": "code",
   "execution_count": 16,
   "metadata": {
    "collapsed": true
   },
   "outputs": [],
   "source": [
    "y = train[['score']]"
   ]
  },
  {
   "cell_type": "code",
   "execution_count": 17,
   "metadata": {},
   "outputs": [
    {
     "data": {
      "text/html": [
       "<div>\n",
       "<style scoped>\n",
       "    .dataframe tbody tr th:only-of-type {\n",
       "        vertical-align: middle;\n",
       "    }\n",
       "\n",
       "    .dataframe tbody tr th {\n",
       "        vertical-align: top;\n",
       "    }\n",
       "\n",
       "    .dataframe thead th {\n",
       "        text-align: right;\n",
       "    }\n",
       "</style>\n",
       "<table border=\"1\" class=\"dataframe\">\n",
       "  <thead>\n",
       "    <tr style=\"text-align: right;\">\n",
       "      <th></th>\n",
       "      <th>score</th>\n",
       "    </tr>\n",
       "  </thead>\n",
       "  <tbody>\n",
       "    <tr>\n",
       "      <th>2732</th>\n",
       "      <td>0.0</td>\n",
       "    </tr>\n",
       "    <tr>\n",
       "      <th>10799</th>\n",
       "      <td>0.0</td>\n",
       "    </tr>\n",
       "    <tr>\n",
       "      <th>9845</th>\n",
       "      <td>0.0</td>\n",
       "    </tr>\n",
       "    <tr>\n",
       "      <th>3264</th>\n",
       "      <td>0.0</td>\n",
       "    </tr>\n",
       "    <tr>\n",
       "      <th>4859</th>\n",
       "      <td>0.0</td>\n",
       "    </tr>\n",
       "  </tbody>\n",
       "</table>\n",
       "</div>"
      ],
      "text/plain": [
       "       score\n",
       "2732     0.0\n",
       "10799    0.0\n",
       "9845     0.0\n",
       "3264     0.0\n",
       "4859     0.0"
      ]
     },
     "execution_count": 17,
     "metadata": {},
     "output_type": "execute_result"
    }
   ],
   "source": [
    "y.head()"
   ]
  },
  {
   "cell_type": "code",
   "execution_count": 18,
   "metadata": {},
   "outputs": [
    {
     "data": {
      "text/plain": [
       "LinearRegression(copy_X=True, fit_intercept=True, n_jobs=1, normalize=False)"
      ]
     },
     "execution_count": 18,
     "metadata": {},
     "output_type": "execute_result"
    }
   ],
   "source": [
    "lr.fit(X, y)"
   ]
  },
  {
   "cell_type": "code",
   "execution_count": 19,
   "metadata": {
    "collapsed": true
   },
   "outputs": [],
   "source": [
    "X_test = test[['cos_sim', 'kl_lm', 'kl_bilm', 'tf_cos', 'bitf_cos']]"
   ]
  },
  {
   "cell_type": "code",
   "execution_count": 20,
   "metadata": {
    "collapsed": true
   },
   "outputs": [],
   "source": [
    "y_test = test[['score']]"
   ]
  },
  {
   "cell_type": "code",
   "execution_count": 21,
   "metadata": {
    "collapsed": true
   },
   "outputs": [],
   "source": [
    "pre = lr.predict(X_test)"
   ]
  },
  {
   "cell_type": "code",
   "execution_count": 22,
   "metadata": {},
   "outputs": [
    {
     "data": {
      "text/plain": [
       "array([[0.19383082],\n",
       "       [0.47236242],\n",
       "       [0.50230897],\n",
       "       ...,\n",
       "       [0.04931249],\n",
       "       [0.15502975],\n",
       "       [0.09528565]])"
      ]
     },
     "execution_count": 22,
     "metadata": {},
     "output_type": "execute_result"
    }
   ],
   "source": [
    "pre"
   ]
  },
  {
   "cell_type": "code",
   "execution_count": 23,
   "metadata": {},
   "outputs": [
    {
     "data": {
      "text/plain": [
       "0.21490279598047124"
      ]
     },
     "execution_count": 23,
     "metadata": {},
     "output_type": "execute_result"
    }
   ],
   "source": [
    "from sklearn.metrics import mean_absolute_error\n",
    "mean_absolute_error(y_test,pre)"
   ]
  },
  {
   "cell_type": "code",
   "execution_count": 24,
   "metadata": {},
   "outputs": [
    {
     "data": {
      "text/plain": [
       "0.100791079756104"
      ]
     },
     "execution_count": 24,
     "metadata": {},
     "output_type": "execute_result"
    }
   ],
   "source": [
    "from sklearn.metrics import mean_squared_error\n",
    "mean_squared_error(y_test, pre)"
   ]
  },
  {
   "cell_type": "code",
   "execution_count": 25,
   "metadata": {},
   "outputs": [
    {
     "data": {
      "text/plain": [
       "0.2611590417026166"
      ]
     },
     "execution_count": 25,
     "metadata": {},
     "output_type": "execute_result"
    }
   ],
   "source": [
    "from sklearn.metrics import r2_score\n",
    "r2_score(y_test, pre)"
   ]
  },
  {
   "cell_type": "code",
   "execution_count": 26,
   "metadata": {},
   "outputs": [
    {
     "data": {
      "text/plain": [
       "array([[ 5.11929234e-01, -3.09113219e-03, -1.44143700e-04,\n",
       "         1.06625758e+00,  4.62498241e-01]])"
      ]
     },
     "execution_count": 26,
     "metadata": {},
     "output_type": "execute_result"
    }
   ],
   "source": [
    "lr.coef_"
   ]
  },
  {
   "cell_type": "code",
   "execution_count": 27,
   "metadata": {},
   "outputs": [
    {
     "data": {
      "text/plain": [
       "0.2611590417026166"
      ]
     },
     "execution_count": 27,
     "metadata": {},
     "output_type": "execute_result"
    }
   ],
   "source": [
    "lr.score(X_test, y_test)"
   ]
  },
  {
   "cell_type": "code",
   "execution_count": 28,
   "metadata": {
    "collapsed": true
   },
   "outputs": [],
   "source": [
    "from sklearn.linear_model import LogisticRegression"
   ]
  },
  {
   "cell_type": "code",
   "execution_count": 29,
   "metadata": {
    "collapsed": true
   },
   "outputs": [],
   "source": [
    "lc = LogisticRegression()"
   ]
  },
  {
   "cell_type": "code",
   "execution_count": 30,
   "metadata": {},
   "outputs": [
    {
     "name": "stderr",
     "output_type": "stream",
     "text": [
      "/anaconda/envs/py35/lib/python3.5/site-packages/sklearn/utils/validation.py:578: DataConversionWarning: A column-vector y was passed when a 1d array was expected. Please change the shape of y to (n_samples, ), for example using ravel().\n",
      "  y = column_or_1d(y, warn=True)\n"
     ]
    },
    {
     "data": {
      "text/plain": [
       "LogisticRegression(C=1.0, class_weight=None, dual=False, fit_intercept=True,\n",
       "          intercept_scaling=1, max_iter=100, multi_class='ovr', n_jobs=1,\n",
       "          penalty='l2', random_state=None, solver='liblinear', tol=0.0001,\n",
       "          verbose=0, warm_start=False)"
      ]
     },
     "execution_count": 30,
     "metadata": {},
     "output_type": "execute_result"
    }
   ],
   "source": [
    "lc.fit(X, y)"
   ]
  },
  {
   "cell_type": "code",
   "execution_count": 31,
   "metadata": {},
   "outputs": [
    {
     "data": {
      "text/plain": [
       "0.8844749838952115"
      ]
     },
     "execution_count": 31,
     "metadata": {},
     "output_type": "execute_result"
    }
   ],
   "source": [
    "lc.score(X_test, y_test)"
   ]
  },
  {
   "cell_type": "code",
   "execution_count": 32,
   "metadata": {},
   "outputs": [
    {
     "data": {
      "text/plain": [
       "array([0., 1., 1., ..., 0., 0., 0.])"
      ]
     },
     "execution_count": 32,
     "metadata": {},
     "output_type": "execute_result"
    }
   ],
   "source": [
    "lc.predict(X_test)"
   ]
  },
  {
   "cell_type": "code",
   "execution_count": 33,
   "metadata": {},
   "outputs": [
    {
     "data": {
      "text/plain": [
       "array([[ 4.71807906e+00, -2.99453833e-02, -1.40180359e-03,\n",
       "         4.95130272e+00,  4.88517351e+00]])"
      ]
     },
     "execution_count": 33,
     "metadata": {},
     "output_type": "execute_result"
    }
   ],
   "source": [
    "lc.coef_"
   ]
  },
  {
   "cell_type": "code",
   "execution_count": 34,
   "metadata": {},
   "outputs": [
    {
     "data": {
      "text/plain": [
       "array([[0.83881597, 0.16118403],\n",
       "       [0.47909107, 0.52090893],\n",
       "       [0.40103931, 0.59896069],\n",
       "       ...,\n",
       "       [0.95189582, 0.04810418],\n",
       "       [0.88102758, 0.11897242],\n",
       "       [0.92776241, 0.07223759]])"
      ]
     },
     "execution_count": 34,
     "metadata": {},
     "output_type": "execute_result"
    }
   ],
   "source": [
    "lc.predict_proba(X_test)"
   ]
  },
  {
   "cell_type": "code",
   "execution_count": 35,
   "metadata": {},
   "outputs": [
    {
     "data": {
      "text/plain": [
       "0.09203057066627958"
      ]
     },
     "execution_count": 35,
     "metadata": {},
     "output_type": "execute_result"
    }
   ],
   "source": [
    "mean_squared_error(y_test, lc.predict_proba(X_test)[:,1])"
   ]
  },
  {
   "cell_type": "code",
   "execution_count": 36,
   "metadata": {
    "collapsed": true
   },
   "outputs": [],
   "source": [
    "from sklearn.metrics import accuracy_score, roc_auc_score, precision_score, recall_score, f1_score, confusion_matrix,roc_curve"
   ]
  },
  {
   "cell_type": "code",
   "execution_count": 37,
   "metadata": {},
   "outputs": [
    {
     "data": {
      "text/plain": [
       "0.8844749838952115"
      ]
     },
     "execution_count": 37,
     "metadata": {},
     "output_type": "execute_result"
    }
   ],
   "source": [
    "accuracy_score(y_test, lc.predict(X_test))"
   ]
  },
  {
   "cell_type": "code",
   "execution_count": 38,
   "metadata": {},
   "outputs": [
    {
     "data": {
      "text/plain": [
       "0.6869645661333708"
      ]
     },
     "execution_count": 38,
     "metadata": {},
     "output_type": "execute_result"
    }
   ],
   "source": [
    "roc_auc_score(y_test, lc.predict(X_test))"
   ]
  },
  {
   "cell_type": "code",
   "execution_count": 39,
   "metadata": {},
   "outputs": [
    {
     "data": {
      "text/plain": [
       "0.7931034482758621"
      ]
     },
     "execution_count": 39,
     "metadata": {},
     "output_type": "execute_result"
    }
   ],
   "source": [
    "precision_score(y_test, lc.predict(X_test))"
   ]
  },
  {
   "cell_type": "code",
   "execution_count": 40,
   "metadata": {},
   "outputs": [
    {
     "data": {
      "text/plain": [
       "0.3939393939393939"
      ]
     },
     "execution_count": 40,
     "metadata": {},
     "output_type": "execute_result"
    }
   ],
   "source": [
    "recall_score(y_test, lc.predict(X_test))"
   ]
  },
  {
   "cell_type": "code",
   "execution_count": 41,
   "metadata": {},
   "outputs": [
    {
     "data": {
      "text/plain": [
       "0.5264084507042253"
      ]
     },
     "execution_count": 41,
     "metadata": {},
     "output_type": "execute_result"
    }
   ],
   "source": [
    "f1_score(y_test, lc.predict(X_test))"
   ]
  },
  {
   "cell_type": "code",
   "execution_count": 42,
   "metadata": {
    "collapsed": true
   },
   "outputs": [],
   "source": [
    "import matplotlib.pyplot as plt"
   ]
  },
  {
   "cell_type": "code",
   "execution_count": 43,
   "metadata": {
    "collapsed": true
   },
   "outputs": [],
   "source": [
    "def roc(y_class, y_pred):\n",
    "    fpr, tpr, thresh = roc_curve(y_class, y_pred)\n",
    "    auc = roc_auc_score(y_class, y_pred)\n",
    "    print(\"AUC:\",auc)\n",
    "    \n",
    "    plt.plot(fpr, tpr, label='ROC curve (area = %0.3f)' % auc)\n",
    "    plt.plot([0,1], [0,1], 'r--')\n",
    "    plt.xlabel('False Positive Rate')\n",
    "    plt.ylabel('True Positive Rate')\n",
    "    plt.title('ROC curve')\n",
    "    plt.grid(True)\n",
    "    plt.show()"
   ]
  },
  {
   "cell_type": "code",
   "execution_count": 44,
   "metadata": {},
   "outputs": [
    {
     "name": "stdout",
     "output_type": "stream",
     "text": [
      "AUC: 0.6869645661333708\n"
     ]
    },
    {
     "data": {
      "image/png": "[encoded data removed]",
      "text/plain": [
       "<matplotlib.figure.Figure at 0x7f6b3cfc63c8>"
      ]
     },
     "metadata": {},
     "output_type": "display_data"
    }
   ],
   "source": [
    "roc(y_test, lc.predict(X_test))"
   ]
  },
  {
   "cell_type": "code",
   "execution_count": 45,
   "metadata": {
    "collapsed": true
   },
   "outputs": [],
   "source": [
    "from sklearn.metrics import classification_report"
   ]
  },
  {
   "cell_type": "code",
   "execution_count": 46,
   "metadata": {},
   "outputs": [
    {
     "name": "stdout",
     "output_type": "stream",
     "text": [
      "             precision    recall  f1-score   support\n",
      "\n",
      "        0.0       0.89      0.98      0.93      3898\n",
      "        1.0       0.79      0.39      0.53       759\n",
      "\n",
      "avg / total       0.88      0.88      0.87      4657\n",
      "\n"
     ]
    }
   ],
   "source": [
    "print(classification_report(y_test, lc.predict(X_test)))"
   ]
  },
  {
   "cell_type": "markdown",
   "metadata": {},
   "source": [
    "# Naive Bayes"
   ]
  },
  {
   "cell_type": "code",
   "execution_count": 47,
   "metadata": {
    "collapsed": true
   },
   "outputs": [],
   "source": [
    "from sklearn.naive_bayes import MultinomialNB"
   ]
  },
  {
   "cell_type": "code",
   "execution_count": 48,
   "metadata": {
    "collapsed": true
   },
   "outputs": [],
   "source": [
    "nb = MultinomialNB()"
   ]
  },
  {
   "cell_type": "code",
   "execution_count": 49,
   "metadata": {},
   "outputs": [
    {
     "name": "stderr",
     "output_type": "stream",
     "text": [
      "/anaconda/envs/py35/lib/python3.5/site-packages/sklearn/utils/validation.py:578: DataConversionWarning: A column-vector y was passed when a 1d array was expected. Please change the shape of y to (n_samples, ), for example using ravel().\n",
      "  y = column_or_1d(y, warn=True)\n"
     ]
    },
    {
     "ename": "ValueError",
     "evalue": "Input X must be non-negative",
     "output_type": "error",
     "traceback": [
      "\u001b[0;31m---------------------------------------------------------------------------\u001b[0m",
      "\u001b[0;31mValueError\u001b[0m                                Traceback (most recent call last)",
      "\u001b[0;32m<ipython-input-49-557cab9083e4>\u001b[0m in \u001b[0;36m<module>\u001b[0;34m()\u001b[0m\n\u001b[0;32m----> 1\u001b[0;31m \u001b[0mnb\u001b[0m\u001b[0;34m.\u001b[0m\u001b[0mfit\u001b[0m\u001b[0;34m(\u001b[0m\u001b[0mX\u001b[0m\u001b[0;34m,\u001b[0m \u001b[0my\u001b[0m\u001b[0;34m)\u001b[0m\u001b[0;34m\u001b[0m\u001b[0m\n\u001b[0m",
      "\u001b[0;32m/anaconda/envs/py35/lib/python3.5/site-packages/sklearn/naive_bayes.py\u001b[0m in \u001b[0;36mfit\u001b[0;34m(self, X, y, sample_weight)\u001b[0m\n\u001b[1;32m    602\u001b[0m         self.feature_count_ = np.zeros((n_effective_classes, n_features),\n\u001b[1;32m    603\u001b[0m                                        dtype=np.float64)\n\u001b[0;32m--> 604\u001b[0;31m         \u001b[0mself\u001b[0m\u001b[0;34m.\u001b[0m\u001b[0m_count\u001b[0m\u001b[0;34m(\u001b[0m\u001b[0mX\u001b[0m\u001b[0;34m,\u001b[0m \u001b[0mY\u001b[0m\u001b[0;34m)\u001b[0m\u001b[0;34m\u001b[0m\u001b[0m\n\u001b[0m\u001b[1;32m    605\u001b[0m         \u001b[0malpha\u001b[0m \u001b[0;34m=\u001b[0m \u001b[0mself\u001b[0m\u001b[0;34m.\u001b[0m\u001b[0m_check_alpha\u001b[0m\u001b[0;34m(\u001b[0m\u001b[0;34m)\u001b[0m\u001b[0;34m\u001b[0m\u001b[0m\n\u001b[1;32m    606\u001b[0m         \u001b[0mself\u001b[0m\u001b[0;34m.\u001b[0m\u001b[0m_update_feature_log_prob\u001b[0m\u001b[0;34m(\u001b[0m\u001b[0malpha\u001b[0m\u001b[0;34m)\u001b[0m\u001b[0;34m\u001b[0m\u001b[0m\n",
      "\u001b[0;32m/anaconda/envs/py35/lib/python3.5/site-packages/sklearn/naive_bayes.py\u001b[0m in \u001b[0;36m_count\u001b[0;34m(self, X, Y)\u001b[0m\n\u001b[1;32m    706\u001b[0m         \u001b[0;34m\"\"\"Count and smooth feature occurrences.\"\"\"\u001b[0m\u001b[0;34m\u001b[0m\u001b[0m\n\u001b[1;32m    707\u001b[0m         \u001b[0;32mif\u001b[0m \u001b[0mnp\u001b[0m\u001b[0;34m.\u001b[0m\u001b[0many\u001b[0m\u001b[0;34m(\u001b[0m\u001b[0;34m(\u001b[0m\u001b[0mX\u001b[0m\u001b[0;34m.\u001b[0m\u001b[0mdata\u001b[0m \u001b[0;32mif\u001b[0m \u001b[0missparse\u001b[0m\u001b[0;34m(\u001b[0m\u001b[0mX\u001b[0m\u001b[0;34m)\u001b[0m \u001b[0;32melse\u001b[0m \u001b[0mX\u001b[0m\u001b[0;34m)\u001b[0m \u001b[0;34m<\u001b[0m \u001b[0;36m0\u001b[0m\u001b[0;34m)\u001b[0m\u001b[0;34m:\u001b[0m\u001b[0;34m\u001b[0m\u001b[0m\n\u001b[0;32m--> 708\u001b[0;31m             \u001b[0;32mraise\u001b[0m \u001b[0mValueError\u001b[0m\u001b[0;34m(\u001b[0m\u001b[0;34m\"Input X must be non-negative\"\u001b[0m\u001b[0;34m)\u001b[0m\u001b[0;34m\u001b[0m\u001b[0m\n\u001b[0m\u001b[1;32m    709\u001b[0m         \u001b[0mself\u001b[0m\u001b[0;34m.\u001b[0m\u001b[0mfeature_count_\u001b[0m \u001b[0;34m+=\u001b[0m \u001b[0msafe_sparse_dot\u001b[0m\u001b[0;34m(\u001b[0m\u001b[0mY\u001b[0m\u001b[0;34m.\u001b[0m\u001b[0mT\u001b[0m\u001b[0;34m,\u001b[0m \u001b[0mX\u001b[0m\u001b[0;34m)\u001b[0m\u001b[0;34m\u001b[0m\u001b[0m\n\u001b[1;32m    710\u001b[0m         \u001b[0mself\u001b[0m\u001b[0;34m.\u001b[0m\u001b[0mclass_count_\u001b[0m \u001b[0;34m+=\u001b[0m \u001b[0mY\u001b[0m\u001b[0;34m.\u001b[0m\u001b[0msum\u001b[0m\u001b[0;34m(\u001b[0m\u001b[0maxis\u001b[0m\u001b[0;34m=\u001b[0m\u001b[0;36m0\u001b[0m\u001b[0;34m)\u001b[0m\u001b[0;34m\u001b[0m\u001b[0m\n",
      "\u001b[0;31mValueError\u001b[0m: Input X must be non-negative"
     ]
    }
   ],
   "source": [
    "nb.fit(X, y)"
   ]
  },
  {
   "cell_type": "code",
   "execution_count": 50,
   "metadata": {},
   "outputs": [
    {
     "data": {
      "text/plain": [
       "0.7193650793650793"
      ]
     },
     "execution_count": 50,
     "metadata": {},
     "output_type": "execute_result"
    }
   ],
   "source": [
    "nb.score(X_test, y_test)"
   ]
  },
  {
   "cell_type": "code",
   "execution_count": 51,
   "metadata": {},
   "outputs": [
    {
     "data": {
      "text/plain": [
       "0.7193650793650793"
      ]
     },
     "execution_count": 51,
     "metadata": {},
     "output_type": "execute_result"
    }
   ],
   "source": [
    "accuracy_score(y_test, nb.predict(X_test))"
   ]
  },
  {
   "cell_type": "code",
   "execution_count": 52,
   "metadata": {},
   "outputs": [
    {
     "name": "stdout",
     "output_type": "stream",
     "text": [
      "             precision    recall  f1-score   support\n",
      "\n",
      "        0.0       0.68      0.84      0.75       801\n",
      "        1.0       0.78      0.59      0.67       774\n",
      "\n",
      "avg / total       0.73      0.72      0.71      1575\n",
      "\n"
     ]
    }
   ],
   "source": [
    "print(classification_report(y_test, nb.predict(X_test)))"
   ]
  },
  {
   "cell_type": "code",
   "execution_count": 53,
   "metadata": {},
   "outputs": [
    {
     "name": "stdout",
     "output_type": "stream",
     "text": [
      "AUC: 0.7172357227883751\n"
     ]
    },
    {
     "data": {
      "image/png": "[encoded data removed]",
      "text/plain": [
       "<matplotlib.figure.Figure at 0x7fd6da689f98>"
      ]
     },
     "metadata": {},
     "output_type": "display_data"
    }
   ],
   "source": [
    "roc(y_test, nb.predict(X_test))"
   ]
  },
  {
   "cell_type": "markdown",
   "metadata": {},
   "source": [
    "# KNN"
   ]
  },
  {
   "cell_type": "code",
   "execution_count": 50,
   "metadata": {
    "collapsed": true
   },
   "outputs": [],
   "source": [
    "from sklearn.neighbors import KNeighborsClassifier"
   ]
  },
  {
   "cell_type": "code",
   "execution_count": 51,
   "metadata": {
    "collapsed": true
   },
   "outputs": [],
   "source": [
    "knn = KNeighborsClassifier()"
   ]
  },
  {
   "cell_type": "code",
   "execution_count": 52,
   "metadata": {},
   "outputs": [
    {
     "name": "stderr",
     "output_type": "stream",
     "text": [
      "/anaconda/envs/py35/lib/python3.5/site-packages/ipykernel_launcher.py:1: DataConversionWarning: A column-vector y was passed when a 1d array was expected. Please change the shape of y to (n_samples, ), for example using ravel().\n",
      "  \"\"\"Entry point for launching an IPython kernel.\n"
     ]
    },
    {
     "data": {
      "text/plain": [
       "KNeighborsClassifier(algorithm='auto', leaf_size=30, metric='minkowski',\n",
       "           metric_params=None, n_jobs=1, n_neighbors=5, p=2,\n",
       "           weights='uniform')"
      ]
     },
     "execution_count": 52,
     "metadata": {},
     "output_type": "execute_result"
    }
   ],
   "source": [
    "knn.fit(X, y)"
   ]
  },
  {
   "cell_type": "code",
   "execution_count": 53,
   "metadata": {},
   "outputs": [
    {
     "data": {
      "text/plain": [
       "0.8297187030277002"
      ]
     },
     "execution_count": 53,
     "metadata": {},
     "output_type": "execute_result"
    }
   ],
   "source": [
    "knn.score(X_test, y_test)"
   ]
  },
  {
   "cell_type": "code",
   "execution_count": 54,
   "metadata": {},
   "outputs": [
    {
     "data": {
      "text/plain": [
       "0.8297187030277002"
      ]
     },
     "execution_count": 54,
     "metadata": {},
     "output_type": "execute_result"
    }
   ],
   "source": [
    "accuracy_score(y_test, knn.predict(X_test))"
   ]
  },
  {
   "cell_type": "code",
   "execution_count": 55,
   "metadata": {},
   "outputs": [
    {
     "name": "stdout",
     "output_type": "stream",
     "text": [
      "             precision    recall  f1-score   support\n",
      "\n",
      "        0.0       0.87      0.93      0.90      3898\n",
      "        1.0       0.46      0.30      0.36       759\n",
      "\n",
      "avg / total       0.81      0.83      0.81      4657\n",
      "\n"
     ]
    }
   ],
   "source": [
    "print(classification_report(y_test, knn.predict(X_test)))"
   ]
  },
  {
   "cell_type": "code",
   "execution_count": 56,
   "metadata": {},
   "outputs": [
    {
     "name": "stdout",
     "output_type": "stream",
     "text": [
      "AUC: 0.6144686880404193\n"
     ]
    },
    {
     "data": {
      "image/png": "[encoded data removed]",
      "text/plain": [
       "<matplotlib.figure.Figure at 0x7f6b3cdcbb70>"
      ]
     },
     "metadata": {},
     "output_type": "display_data"
    }
   ],
   "source": [
    "roc(y_test, knn.predict(X_test))"
   ]
  },
  {
   "cell_type": "markdown",
   "metadata": {},
   "source": [
    "# SVM"
   ]
  },
  {
   "cell_type": "code",
   "execution_count": 57,
   "metadata": {
    "collapsed": true
   },
   "outputs": [],
   "source": [
    "from sklearn.svm import SVC"
   ]
  },
  {
   "cell_type": "code",
   "execution_count": 58,
   "metadata": {
    "collapsed": true
   },
   "outputs": [],
   "source": [
    "svc =SVC(kernel = 'linear')"
   ]
  },
  {
   "cell_type": "code",
   "execution_count": 59,
   "metadata": {
    "collapsed": true
   },
   "outputs": [],
   "source": [
    "y = y.values"
   ]
  },
  {
   "cell_type": "code",
   "execution_count": 61,
   "metadata": {},
   "outputs": [
    {
     "data": {
      "text/plain": [
       "SVC(C=1.0, cache_size=200, class_weight=None, coef0=0.0,\n",
       "  decision_function_shape='ovr', degree=3, gamma='auto', kernel='linear',\n",
       "  max_iter=-1, probability=False, random_state=None, shrinking=True,\n",
       "  tol=0.001, verbose=False)"
      ]
     },
     "execution_count": 61,
     "metadata": {},
     "output_type": "execute_result"
    }
   ],
   "source": [
    "svc.fit(X, y.reshape(12696, ))"
   ]
  },
  {
   "cell_type": "code",
   "execution_count": 62,
   "metadata": {},
   "outputs": [
    {
     "data": {
      "text/plain": [
       "0.8834013313291819"
      ]
     },
     "execution_count": 62,
     "metadata": {},
     "output_type": "execute_result"
    }
   ],
   "source": [
    "svc.score(X_test, y_test)"
   ]
  },
  {
   "cell_type": "code",
   "execution_count": 63,
   "metadata": {},
   "outputs": [
    {
     "data": {
      "text/plain": [
       "0.8834013313291819"
      ]
     },
     "execution_count": 63,
     "metadata": {},
     "output_type": "execute_result"
    }
   ],
   "source": [
    "accuracy_score(y_test, svc.predict(X_test))"
   ]
  },
  {
   "cell_type": "code",
   "execution_count": 64,
   "metadata": {},
   "outputs": [
    {
     "name": "stdout",
     "output_type": "stream",
     "text": [
      "             precision    recall  f1-score   support\n",
      "\n",
      "        0.0       0.89      0.99      0.93      3898\n",
      "        1.0       0.85      0.35      0.49       759\n",
      "\n",
      "avg / total       0.88      0.88      0.86      4657\n",
      "\n"
     ]
    }
   ],
   "source": [
    "print(classification_report(y_test, svc.predict(X_test)))"
   ]
  },
  {
   "cell_type": "code",
   "execution_count": 65,
   "metadata": {},
   "outputs": [
    {
     "name": "stdout",
     "output_type": "stream",
     "text": [
      "AUC: 0.6677560398866754\n"
     ]
    },
    {
     "data": {
      "image/png": "[encoded data removed]",
      "text/plain": [
       "<matplotlib.figure.Figure at 0x7f6b3cd41320>"
      ]
     },
     "metadata": {},
     "output_type": "display_data"
    }
   ],
   "source": [
    "roc(y_test, svc.predict(X_test))"
   ]
  },
  {
   "cell_type": "code",
   "execution_count": 66,
   "metadata": {},
   "outputs": [
    {
     "data": {
      "text/plain": [
       "array([[3850,   48],\n",
       "       [ 495,  264]])"
      ]
     },
     "execution_count": 66,
     "metadata": {},
     "output_type": "execute_result"
    }
   ],
   "source": [
    "confusion_matrix(y_test, svc.predict(X_test))"
   ]
  },
  {
   "cell_type": "code",
   "execution_count": 68,
   "metadata": {
    "collapsed": true
   },
   "outputs": [],
   "source": [
    "import xgboost as xgb"
   ]
  },
  {
   "cell_type": "code",
   "execution_count": 69,
   "metadata": {
    "collapsed": true
   },
   "outputs": [],
   "source": [
    "xgb_model = xgb.XGBClassifier()"
   ]
  },
  {
   "cell_type": "code",
   "execution_count": 70,
   "metadata": {},
   "outputs": [
    {
     "name": "stderr",
     "output_type": "stream",
     "text": [
      "/anaconda/envs/py35/lib/python3.5/site-packages/sklearn/preprocessing/label.py:95: DataConversionWarning: A column-vector y was passed when a 1d array was expected. Please change the shape of y to (n_samples, ), for example using ravel().\n",
      "  y = column_or_1d(y, warn=True)\n",
      "/anaconda/envs/py35/lib/python3.5/site-packages/sklearn/preprocessing/label.py:128: DataConversionWarning: A column-vector y was passed when a 1d array was expected. Please change the shape of y to (n_samples, ), for example using ravel().\n",
      "  y = column_or_1d(y, warn=True)\n"
     ]
    },
    {
     "data": {
      "text/plain": [
       "XGBClassifier(base_score=0.5, booster='gbtree', colsample_bylevel=1,\n",
       "       colsample_bytree=1, gamma=0, learning_rate=0.1, max_delta_step=0,\n",
       "       max_depth=3, min_child_weight=1, missing=None, n_estimators=100,\n",
       "       n_jobs=1, nthread=None, objective='binary:logistic', random_state=0,\n",
       "       reg_alpha=0, reg_lambda=1, scale_pos_weight=1, seed=None,\n",
       "       silent=True, subsample=1)"
      ]
     },
     "execution_count": 70,
     "metadata": {},
     "output_type": "execute_result"
    }
   ],
   "source": [
    "xgb_model.fit(X, y)"
   ]
  },
  {
   "cell_type": "code",
   "execution_count": 71,
   "metadata": {},
   "outputs": [
    {
     "name": "stderr",
     "output_type": "stream",
     "text": [
      "/anaconda/envs/py35/lib/python3.5/site-packages/sklearn/preprocessing/label.py:151: DeprecationWarning: The truth value of an empty array is ambiguous. Returning False, but in future this will result in an error. Use `array.size > 0` to check that an array is not empty.\n",
      "  if diff:\n"
     ]
    },
    {
     "data": {
      "text/plain": [
       "0.8870517500536826"
      ]
     },
     "execution_count": 71,
     "metadata": {},
     "output_type": "execute_result"
    }
   ],
   "source": [
    "xgb_model.score(X_test, y_test)"
   ]
  },
  {
   "cell_type": "code",
   "execution_count": 72,
   "metadata": {},
   "outputs": [
    {
     "name": "stderr",
     "output_type": "stream",
     "text": [
      "/anaconda/envs/py35/lib/python3.5/site-packages/sklearn/preprocessing/label.py:151: DeprecationWarning: The truth value of an empty array is ambiguous. Returning False, but in future this will result in an error. Use `array.size > 0` to check that an array is not empty.\n",
      "  if diff:\n"
     ]
    },
    {
     "data": {
      "text/plain": [
       "0.8870517500536826"
      ]
     },
     "execution_count": 72,
     "metadata": {},
     "output_type": "execute_result"
    }
   ],
   "source": [
    "accuracy_score(y_test, xgb_model.predict(X_test))"
   ]
  },
  {
   "cell_type": "code",
   "execution_count": 73,
   "metadata": {},
   "outputs": [
    {
     "name": "stdout",
     "output_type": "stream",
     "text": [
      "             precision    recall  f1-score   support\n",
      "\n",
      "        0.0       0.90      0.97      0.94      3898\n",
      "        1.0       0.77      0.44      0.56       759\n",
      "\n",
      "avg / total       0.88      0.89      0.87      4657\n",
      "\n"
     ]
    },
    {
     "name": "stderr",
     "output_type": "stream",
     "text": [
      "/anaconda/envs/py35/lib/python3.5/site-packages/sklearn/preprocessing/label.py:151: DeprecationWarning: The truth value of an empty array is ambiguous. Returning False, but in future this will result in an error. Use `array.size > 0` to check that an array is not empty.\n",
      "  if diff:\n"
     ]
    }
   ],
   "source": [
    "print(classification_report(y_test, xgb_model.predict(X_test)))"
   ]
  },
  {
   "cell_type": "code",
   "execution_count": 74,
   "metadata": {},
   "outputs": [
    {
     "name": "stdout",
     "output_type": "stream",
     "text": [
      "AUC: 0.707070988737172\n"
     ]
    },
    {
     "name": "stderr",
     "output_type": "stream",
     "text": [
      "/anaconda/envs/py35/lib/python3.5/site-packages/sklearn/preprocessing/label.py:151: DeprecationWarning: The truth value of an empty array is ambiguous. Returning False, but in future this will result in an error. Use `array.size > 0` to check that an array is not empty.\n",
      "  if diff:\n"
     ]
    },
    {
     "data": {
      "image/png": "[encoded data removed]",
      "text/plain": [
       "<matplotlib.figure.Figure at 0x7f6b3ccb4b38>"
      ]
     },
     "metadata": {},
     "output_type": "display_data"
    }
   ],
   "source": [
    "roc(y_test, xgb_model.predict(X_test))"
   ]
  },
  {
   "cell_type": "code",
   "execution_count": null,
   "metadata": {
    "collapsed": true
   },
   "outputs": [],
   "source": []
  }
 ],
 "metadata": {
  "kernelspec": {
   "display_name": "Python 3",
   "language": "python",
   "name": "python3"
  },
  "language_info": {
   "codemirror_mode": {
    "name": "ipython",
    "version": 3
   },
   "file_extension": ".py",
   "mimetype": "text/x-python",
   "name": "python",
   "nbconvert_exporter": "python",
   "pygments_lexer": "ipython3",
   "version": "3.6.3"
  }
 },
 "nbformat": 4,
 "nbformat_minor": 2
}
